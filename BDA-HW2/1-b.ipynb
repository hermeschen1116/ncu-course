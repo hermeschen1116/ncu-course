{
 "cells": [
  {
   "cell_type": "code",
   "execution_count": 21,
   "metadata": {
    "ExecuteTime": {
     "end_time": "2023-03-30T03:54:17.672130Z",
     "start_time": "2023-03-30T03:54:17.670223Z"
    },
    "collapsed": true
   },
   "outputs": [],
   "source": [
    "import scipy"
   ]
  },
  {
   "cell_type": "code",
   "execution_count": 22,
   "metadata": {
    "ExecuteTime": {
     "end_time": "2023-03-30T03:54:17.684445Z",
     "start_time": "2023-03-30T03:54:17.681625Z"
    },
    "collapsed": false
   },
   "outputs": [],
   "source": [
    "a = scipy.stats.norm.pdf(1, 1, 2)"
   ]
  },
  {
   "cell_type": "code",
   "execution_count": 23,
   "metadata": {
    "ExecuteTime": {
     "end_time": "2023-03-30T03:54:17.690909Z",
     "start_time": "2023-03-30T03:54:17.688174Z"
    },
    "collapsed": false
   },
   "outputs": [],
   "source": [
    "b = 0.5 * scipy.stats.norm.pdf(1, 1, 2) + 0.5 * scipy.stats.norm.pdf(1, 2, 2)"
   ]
  },
  {
   "cell_type": "code",
   "execution_count": 24,
   "metadata": {
    "ExecuteTime": {
     "end_time": "2023-03-30T03:54:17.701051Z",
     "start_time": "2023-03-30T03:54:17.695516Z"
    },
    "collapsed": false
   },
   "outputs": [
    {
     "data": {
      "text/plain": "0.5312093733737563"
     },
     "execution_count": 24,
     "metadata": {},
     "output_type": "execute_result"
    }
   ],
   "source": [
    "a * 0.5 / b"
   ]
  }
 ],
 "metadata": {
  "kernelspec": {
   "display_name": "Python 3",
   "language": "python",
   "name": "python3"
  },
  "language_info": {
   "codemirror_mode": {
    "name": "ipython",
    "version": 2
   },
   "file_extension": ".py",
   "mimetype": "text/x-python",
   "name": "python",
   "nbconvert_exporter": "python",
   "pygments_lexer": "ipython2",
   "version": "2.7.6"
  }
 },
 "nbformat": 4,
 "nbformat_minor": 0
}
