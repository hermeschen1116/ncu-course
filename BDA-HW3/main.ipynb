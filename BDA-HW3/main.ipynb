{
 "cells": [
  {
   "cell_type": "code",
   "execution_count": 25,
   "metadata": {
    "collapsed": true,
    "ExecuteTime": {
     "end_time": "2023-04-27T17:02:55.759604Z",
     "start_time": "2023-04-27T17:02:54.087508Z"
    }
   },
   "outputs": [
    {
     "ename": "AttributeError",
     "evalue": "partially initialized module 'theano' has no attribute 'compile' (most likely due to a circular import)",
     "output_type": "error",
     "traceback": [
      "\u001B[0;31m---------------------------------------------------------------------------\u001B[0m",
      "\u001B[0;31mAttributeError\u001B[0m                            Traceback (most recent call last)",
      "Cell \u001B[0;32mIn[25], line 5\u001B[0m\n\u001B[1;32m      3\u001B[0m \u001B[38;5;28;01mimport\u001B[39;00m \u001B[38;5;21;01mpolars\u001B[39;00m \u001B[38;5;28;01mas\u001B[39;00m \u001B[38;5;21;01mps\u001B[39;00m\n\u001B[1;32m      4\u001B[0m \u001B[38;5;28;01mimport\u001B[39;00m \u001B[38;5;21;01mpymc\u001B[39;00m \u001B[38;5;28;01mas\u001B[39;00m \u001B[38;5;21;01mpm\u001B[39;00m\n\u001B[0;32m----> 5\u001B[0m \u001B[38;5;28;01mfrom\u001B[39;00m \u001B[38;5;21;01mtheano\u001B[39;00m \u001B[38;5;28;01mimport\u001B[39;00m shared, tensor\n",
      "File \u001B[0;32m~/.pyenv/versions/3.10-dev/envs/BDA/lib/python3.10/site-packages/theano/__init__.py:124\u001B[0m\n\u001B[1;32m    120\u001B[0m \u001B[38;5;28;01mfrom\u001B[39;00m \u001B[38;5;21;01mtheano\u001B[39;00m\u001B[38;5;21;01m.\u001B[39;00m\u001B[38;5;21;01mmisc\u001B[39;00m\u001B[38;5;21;01m.\u001B[39;00m\u001B[38;5;21;01msafe_asarray\u001B[39;00m \u001B[38;5;28;01mimport\u001B[39;00m _asarray\n\u001B[1;32m    122\u001B[0m \u001B[38;5;28;01mfrom\u001B[39;00m \u001B[38;5;21;01mtheano\u001B[39;00m\u001B[38;5;21;01m.\u001B[39;00m\u001B[38;5;21;01mprinting\u001B[39;00m \u001B[38;5;28;01mimport\u001B[39;00m pprint, pp\n\u001B[0;32m--> 124\u001B[0m \u001B[38;5;28;01mfrom\u001B[39;00m \u001B[38;5;21;01mtheano\u001B[39;00m\u001B[38;5;21;01m.\u001B[39;00m\u001B[38;5;21;01mscan_module\u001B[39;00m \u001B[38;5;28;01mimport\u001B[39;00m (scan, \u001B[38;5;28mmap\u001B[39m, reduce, foldl, foldr, clone,\n\u001B[1;32m    125\u001B[0m                                 scan_checkpoints)\n\u001B[1;32m    127\u001B[0m \u001B[38;5;28;01mfrom\u001B[39;00m \u001B[38;5;21;01mtheano\u001B[39;00m\u001B[38;5;21;01m.\u001B[39;00m\u001B[38;5;21;01mupdates\u001B[39;00m \u001B[38;5;28;01mimport\u001B[39;00m OrderedUpdates\n\u001B[1;32m    129\u001B[0m \u001B[38;5;66;03m# scan_module import above initializes tensor and scalar making these imports\u001B[39;00m\n\u001B[1;32m    130\u001B[0m \u001B[38;5;66;03m# redundant\u001B[39;00m\n\u001B[1;32m    131\u001B[0m \n\u001B[0;32m   (...)\u001B[0m\n\u001B[1;32m    136\u001B[0m \n\u001B[1;32m    137\u001B[0m \u001B[38;5;66;03m# import sparse\u001B[39;00m\n",
      "File \u001B[0;32m~/.pyenv/versions/3.10-dev/envs/BDA/lib/python3.10/site-packages/theano/scan_module/__init__.py:41\u001B[0m\n\u001B[1;32m     38\u001B[0m __copyright__ \u001B[38;5;241m=\u001B[39m \u001B[38;5;124m\"\u001B[39m\u001B[38;5;124m(c) 2010, Universite de Montreal\u001B[39m\u001B[38;5;124m\"\u001B[39m\n\u001B[1;32m     39\u001B[0m __contact__ \u001B[38;5;241m=\u001B[39m \u001B[38;5;124m\"\u001B[39m\u001B[38;5;124mRazvan Pascanu <r.pascanu@gmail>\u001B[39m\u001B[38;5;124m\"\u001B[39m\n\u001B[0;32m---> 41\u001B[0m \u001B[38;5;28;01mfrom\u001B[39;00m \u001B[38;5;21;01mtheano\u001B[39;00m\u001B[38;5;21;01m.\u001B[39;00m\u001B[38;5;21;01mscan_module\u001B[39;00m \u001B[38;5;28;01mimport\u001B[39;00m scan_opt\n\u001B[1;32m     42\u001B[0m \u001B[38;5;28;01mfrom\u001B[39;00m \u001B[38;5;21;01mtheano\u001B[39;00m\u001B[38;5;21;01m.\u001B[39;00m\u001B[38;5;21;01mscan_module\u001B[39;00m\u001B[38;5;21;01m.\u001B[39;00m\u001B[38;5;21;01mscan\u001B[39;00m \u001B[38;5;28;01mimport\u001B[39;00m scan\n\u001B[1;32m     43\u001B[0m \u001B[38;5;28;01mfrom\u001B[39;00m \u001B[38;5;21;01mtheano\u001B[39;00m\u001B[38;5;21;01m.\u001B[39;00m\u001B[38;5;21;01mscan_module\u001B[39;00m\u001B[38;5;21;01m.\u001B[39;00m\u001B[38;5;21;01mscan_checkpoints\u001B[39;00m \u001B[38;5;28;01mimport\u001B[39;00m scan_checkpoints\n",
      "File \u001B[0;32m~/.pyenv/versions/3.10-dev/envs/BDA/lib/python3.10/site-packages/theano/scan_module/scan_opt.py:60\u001B[0m\n\u001B[1;32m     57\u001B[0m \u001B[38;5;28;01mimport\u001B[39;00m \u001B[38;5;21;01mnumpy\u001B[39;00m \u001B[38;5;28;01mas\u001B[39;00m \u001B[38;5;21;01mnp\u001B[39;00m\n\u001B[1;32m     59\u001B[0m \u001B[38;5;28;01mimport\u001B[39;00m \u001B[38;5;21;01mtheano\u001B[39;00m\n\u001B[0;32m---> 60\u001B[0m \u001B[38;5;28;01mfrom\u001B[39;00m \u001B[38;5;21;01mtheano\u001B[39;00m \u001B[38;5;28;01mimport\u001B[39;00m tensor, scalar\n\u001B[1;32m     61\u001B[0m \u001B[38;5;28;01mfrom\u001B[39;00m \u001B[38;5;21;01mtheano\u001B[39;00m\u001B[38;5;21;01m.\u001B[39;00m\u001B[38;5;21;01mtensor\u001B[39;00m \u001B[38;5;28;01mimport\u001B[39;00m opt, get_scalar_constant_value, Alloc, AllocEmpty\n\u001B[1;32m     62\u001B[0m \u001B[38;5;28;01mfrom\u001B[39;00m \u001B[38;5;21;01mtheano\u001B[39;00m \u001B[38;5;28;01mimport\u001B[39;00m gof\n",
      "File \u001B[0;32m~/.pyenv/versions/3.10-dev/envs/BDA/lib/python3.10/site-packages/theano/tensor/__init__.py:8\u001B[0m\n\u001B[1;32m      4\u001B[0m __docformat__ \u001B[38;5;241m=\u001B[39m \u001B[38;5;124m\"\u001B[39m\u001B[38;5;124mrestructuredtext en\u001B[39m\u001B[38;5;124m\"\u001B[39m\n\u001B[1;32m      6\u001B[0m \u001B[38;5;28;01mimport\u001B[39;00m \u001B[38;5;21;01mwarnings\u001B[39;00m\n\u001B[0;32m----> 8\u001B[0m \u001B[38;5;28;01mfrom\u001B[39;00m \u001B[38;5;21;01mtheano\u001B[39;00m\u001B[38;5;21;01m.\u001B[39;00m\u001B[38;5;21;01mtensor\u001B[39;00m\u001B[38;5;21;01m.\u001B[39;00m\u001B[38;5;21;01mbasic\u001B[39;00m \u001B[38;5;28;01mimport\u001B[39;00m \u001B[38;5;241m*\u001B[39m\n\u001B[1;32m      9\u001B[0m \u001B[38;5;28;01mfrom\u001B[39;00m \u001B[38;5;21;01mtheano\u001B[39;00m\u001B[38;5;21;01m.\u001B[39;00m\u001B[38;5;21;01mtensor\u001B[39;00m\u001B[38;5;21;01m.\u001B[39;00m\u001B[38;5;21;01msubtensor\u001B[39;00m \u001B[38;5;28;01mimport\u001B[39;00m \u001B[38;5;241m*\u001B[39m\n\u001B[1;32m     10\u001B[0m \u001B[38;5;28;01mfrom\u001B[39;00m \u001B[38;5;21;01mtheano\u001B[39;00m\u001B[38;5;21;01m.\u001B[39;00m\u001B[38;5;21;01mtensor\u001B[39;00m\u001B[38;5;21;01m.\u001B[39;00m\u001B[38;5;21;01mtype_other\u001B[39;00m \u001B[38;5;28;01mimport\u001B[39;00m \u001B[38;5;241m*\u001B[39m\n",
      "File \u001B[0;32m~/.pyenv/versions/3.10-dev/envs/BDA/lib/python3.10/site-packages/theano/tensor/basic.py:20\u001B[0m\n\u001B[1;32m     17\u001B[0m \u001B[38;5;28;01mfrom\u001B[39;00m \u001B[38;5;21;01mtheano\u001B[39;00m\u001B[38;5;21;01m.\u001B[39;00m\u001B[38;5;21;01mgof\u001B[39;00m \u001B[38;5;28;01mimport\u001B[39;00m Apply, Constant, Op, Variable, ParamsType\n\u001B[1;32m     18\u001B[0m \u001B[38;5;28;01mfrom\u001B[39;00m \u001B[38;5;21;01mtheano\u001B[39;00m\u001B[38;5;21;01m.\u001B[39;00m\u001B[38;5;21;01mgof\u001B[39;00m\u001B[38;5;21;01m.\u001B[39;00m\u001B[38;5;21;01mtype\u001B[39;00m \u001B[38;5;28;01mimport\u001B[39;00m Generic\n\u001B[0;32m---> 20\u001B[0m \u001B[38;5;28;01mfrom\u001B[39;00m \u001B[38;5;21;01mtheano\u001B[39;00m\u001B[38;5;21;01m.\u001B[39;00m\u001B[38;5;21;01mscalar\u001B[39;00m \u001B[38;5;28;01mimport\u001B[39;00m int32 \u001B[38;5;28;01mas\u001B[39;00m int32_t\n\u001B[1;32m     21\u001B[0m \u001B[38;5;28;01mfrom\u001B[39;00m \u001B[38;5;21;01mtheano\u001B[39;00m\u001B[38;5;21;01m.\u001B[39;00m\u001B[38;5;21;01mtensor\u001B[39;00m \u001B[38;5;28;01mimport\u001B[39;00m elemwise\n\u001B[1;32m     22\u001B[0m \u001B[38;5;28;01mfrom\u001B[39;00m \u001B[38;5;21;01mtheano\u001B[39;00m\u001B[38;5;21;01m.\u001B[39;00m\u001B[38;5;21;01mtensor\u001B[39;00m\u001B[38;5;21;01m.\u001B[39;00m\u001B[38;5;21;01mvar\u001B[39;00m \u001B[38;5;28;01mimport\u001B[39;00m (AsTensorError, TensorVariable,\n\u001B[1;32m     23\u001B[0m                                TensorConstant, TensorConstantSignature,\n\u001B[1;32m     24\u001B[0m                                _tensor_py_operators)\n",
      "File \u001B[0;32m~/.pyenv/versions/3.10-dev/envs/BDA/lib/python3.10/site-packages/theano/scalar/__init__.py:3\u001B[0m\n\u001B[1;32m      1\u001B[0m \u001B[38;5;28;01mfrom\u001B[39;00m \u001B[38;5;21;01m__future__\u001B[39;00m \u001B[38;5;28;01mimport\u001B[39;00m absolute_import, print_function, division\n\u001B[0;32m----> 3\u001B[0m \u001B[38;5;28;01mfrom\u001B[39;00m \u001B[38;5;21;01m.\u001B[39;00m\u001B[38;5;21;01mbasic\u001B[39;00m \u001B[38;5;28;01mimport\u001B[39;00m \u001B[38;5;241m*\u001B[39m\n\u001B[1;32m      5\u001B[0m \u001B[38;5;28;01mfrom\u001B[39;00m \u001B[38;5;21;01m.\u001B[39;00m\u001B[38;5;21;01mbasic_scipy\u001B[39;00m \u001B[38;5;28;01mimport\u001B[39;00m \u001B[38;5;241m*\u001B[39m\n",
      "File \u001B[0;32m~/.pyenv/versions/3.10-dev/envs/BDA/lib/python3.10/site-packages/theano/scalar/basic.py:656\u001B[0m\n\u001B[1;32m    653\u001B[0m         \u001B[38;5;28;01mreturn\u001B[39;00m shape_info\n\u001B[1;32m    655\u001B[0m \u001B[38;5;66;03m# Register C code for ViewOp on Scalars.\u001B[39;00m\n\u001B[0;32m--> 656\u001B[0m \u001B[43mtheano\u001B[49m\u001B[38;5;241;43m.\u001B[39;49m\u001B[43mcompile\u001B[49m\u001B[38;5;241m.\u001B[39mregister_view_op_c_code(\n\u001B[1;32m    657\u001B[0m     Scalar,\n\u001B[1;32m    658\u001B[0m \u001B[38;5;250m    \u001B[39m\u001B[38;5;124;03m\"\"\"\u001B[39;00m\n\u001B[1;32m    659\u001B[0m \u001B[38;5;124;03m    %(oname)s = %(iname)s;\u001B[39;00m\n\u001B[1;32m    660\u001B[0m \u001B[38;5;124;03m    \"\"\"\u001B[39;00m,\n\u001B[1;32m    661\u001B[0m     \u001B[38;5;241m1\u001B[39m)\n\u001B[1;32m    664\u001B[0m \u001B[38;5;28mbool\u001B[39m \u001B[38;5;241m=\u001B[39m get_scalar_type(\u001B[38;5;124m'\u001B[39m\u001B[38;5;124mbool\u001B[39m\u001B[38;5;124m'\u001B[39m)\n\u001B[1;32m    665\u001B[0m int8 \u001B[38;5;241m=\u001B[39m get_scalar_type(\u001B[38;5;124m'\u001B[39m\u001B[38;5;124mint8\u001B[39m\u001B[38;5;124m'\u001B[39m)\n",
      "\u001B[0;31mAttributeError\u001B[0m: partially initialized module 'theano' has no attribute 'compile' (most likely due to a circular import)"
     ]
    }
   ],
   "source": [
    "import arviz as az\n",
    "import matplotlib.pyplot as plt\n",
    "import polars as ps\n",
    "import pymc as pm\n",
    "from theano import shared, tensor"
   ]
  },
  {
   "cell_type": "code",
   "execution_count": null,
   "outputs": [],
   "source": [
    "az.style.use('arviz-darkgrid')"
   ],
   "metadata": {
    "collapsed": false
   }
  },
  {
   "cell_type": "code",
   "execution_count": null,
   "outputs": [],
   "source": [
    "dataset = ps.read_csv('dataset/howell.csv')"
   ],
   "metadata": {
    "collapsed": false
   }
  },
  {
   "cell_type": "code",
   "execution_count": null,
   "outputs": [],
   "source": [
    "dataset.head()"
   ],
   "metadata": {
    "collapsed": false
   }
  },
  {
   "cell_type": "code",
   "execution_count": null,
   "outputs": [],
   "source": [
    "over_eighteen_dataset = dataset.filter(ps.col('age') > 18)\n",
    "over_eighteen_dataset_weight = dataset['weight']\n",
    "over_eighteen_dataset_height = dataset['height']"
   ],
   "metadata": {
    "collapsed": false
   }
  },
  {
   "cell_type": "code",
   "execution_count": null,
   "outputs": [],
   "source": [
    "plt.scatter(x=over_eighteen_dataset_weight, y=over_eighteen_dataset_height)"
   ],
   "metadata": {
    "collapsed": false
   }
  },
  {
   "cell_type": "code",
   "execution_count": null,
   "outputs": [],
   "source": [
    "with pm.Model() as height:\n",
    "\talpha = pm.Normal('α', sigma=10)\n",
    "\tbeta = pm.Normal('β', sigma=10)\n",
    "\tepson = pm.HalfNormal('ϵ', sigma=10)\n",
    "\n",
    "\tweight = shared(over_eighteen_dataset_weight)\n",
    "\tmu = pm.Deterministic(\"μ\", alpha + beta * weight)\n",
    "\n",
    "\theight_prediction = pm.Normal(\"height_pred\", mu=mu, sd=epson, observed = over_eighteen_dataset_height)\n",
    "\ttrace = pm.sample(tune=2000)\n",
    "\tposterior_prediction = pm.sample_posterior_predictive(trace)"
   ],
   "metadata": {
    "collapsed": false
   }
  },
  {
   "cell_type": "code",
   "execution_count": null,
   "outputs": [],
   "source": [
    "az.plot_trace(trace, var_names = [\"α\",\"β\", \"ϵ\"]);"
   ],
   "metadata": {
    "collapsed": false
   }
  },
  {
   "cell_type": "code",
   "execution_count": null,
   "outputs": [],
   "source": [],
   "metadata": {
    "collapsed": false
   }
  }
 ],
 "metadata": {
  "kernelspec": {
   "display_name": "Python 3",
   "language": "python",
   "name": "python3"
  },
  "language_info": {
   "codemirror_mode": {
    "name": "ipython",
    "version": 2
   },
   "file_extension": ".py",
   "mimetype": "text/x-python",
   "name": "python",
   "nbconvert_exporter": "python",
   "pygments_lexer": "ipython2",
   "version": "2.7.6"
  }
 },
 "nbformat": 4,
 "nbformat_minor": 0
}
