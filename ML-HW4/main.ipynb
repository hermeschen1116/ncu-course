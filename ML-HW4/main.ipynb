{
 "cells": [
  {
   "cell_type": "code",
   "execution_count": 21,
   "metadata": {},
   "outputs": [],
   "source": [
    "#import package\n",
    "import pandas as pd\n",
    "from sklearn import ensemble, metrics\n",
    "from sklearn.metrics import accuracy_score\n",
    "from sklearn.model_selection import KFold\n",
    "from sklearn.utils import shuffle"
   ]
  },
  {
   "cell_type": "code",
   "execution_count": 22,
   "metadata": {},
   "outputs": [],
   "source": [
    "# Read CSV\n",
    "dataset = pd.read_csv('source/train.csv')\n",
    "testset = pd.read_csv('source/test.csv')"
   ]
  },
  {
   "cell_type": "code",
   "execution_count": 23,
   "metadata": {},
   "outputs": [],
   "source": [
    "#將dataset shuffle\n",
    "dataset = shuffle(dataset)\n",
    "label = dataset.label\n",
    "dataset = dataset[dataset.columns[:449]]"
   ]
  },
  {
   "cell_type": "code",
   "execution_count": 24,
   "metadata": {},
   "outputs": [],
   "source": [
    "#svm\n",
    "#Import library\n",
    "from sklearn.multiclass import OneVsRestClassifier\n",
    "from sklearn.svm import SVC\n",
    "\n",
    "#10-fold cross-validation\n",
    "kfold = KFold(10, shuffle=True)\n",
    "predicted = []\n",
    "expected = []\n",
    "#Train model\n",
    "svm = OneVsRestClassifier(SVC(gamma='scale'))\n",
    "for train, test in kfold.split(dataset):\n",
    "\tX_train = dataset.iloc[train]\n",
    "\tY_train = label.iloc[train]\n",
    "\tX_test = dataset.iloc[test]\n",
    "\tY_test = label.iloc[test]\n",
    "\tsvm.fit(X_train, Y_train)\n",
    "\texpected.extend(Y_test)\n",
    "\tpredicted.extend(svm.predict(X_test))"
   ]
  },
  {
   "cell_type": "code",
   "execution_count": 25,
   "metadata": {},
   "outputs": [
    {
     "name": "stdout",
     "output_type": "stream",
     "text": [
      "Macro-average: 0.9693593216775744\n",
      "Micro-average: 0.9701321079839172\n",
      "              precision    recall  f1-score   support\n",
      "\n",
      "           0       1.00      0.95      0.98       145\n",
      "           1       0.93      0.90      0.92       207\n",
      "           2       1.00      0.96      0.98       119\n",
      "           3       0.90      0.95      0.92       238\n",
      "           4       0.97      0.99      0.98       256\n",
      "           5       1.00      1.00      1.00       264\n",
      "           6       1.00      0.99      1.00       240\n",
      "           7       0.99      0.99      0.99       272\n",
      "\n",
      "    accuracy                           0.97      1741\n",
      "   macro avg       0.97      0.97      0.97      1741\n",
      "weighted avg       0.97      0.97      0.97      1741\n",
      "\n",
      "[[138   1   0   0   6   0   0   0]\n",
      " [  0 187   0  20   0   0   0   0]\n",
      " [  0   0 114   5   0   0   0   0]\n",
      " [  0  11   0 227   0   0   0   0]\n",
      " [  0   0   0   0 253   0   0   3]\n",
      " [  0   0   0   0   0 264   0   0]\n",
      " [  0   1   0   1   0   0 238   0]\n",
      " [  0   1   0   0   3   0   0 268]]\n",
      "Accuracy: 97.01%\n",
      "Average = macro\n",
      "precision: 0.9727700255685275\n",
      "recall: 0.9665140650798989\n",
      "F1-score: 0.9491712501385544\n",
      "\n",
      "\n",
      "Average = micro\n",
      "precision: 0.9701321079839172\n",
      "recall: 0.9701321079839172\n",
      "F1-score: 0.9466666666666667\n",
      "\n",
      "\n",
      "Average = weighted\n",
      "precision: 0.9708895050477033\n",
      "recall: 0.9701321079839172\n",
      "F1-score: 0.9467451501425831\n"
     ]
    }
   ],
   "source": [
    "print(\"Macro-average: {0}\".format(metrics.f1_score(expected, predicted, average='macro')))\n",
    "print(\"Micro-average: {0}\".format(metrics.f1_score(expected, predicted, average='micro')))\n",
    "print(metrics.classification_report(expected, predicted))\n",
    "print(metrics.confusion_matrix(expected, predicted))\n",
    "accuracy = accuracy_score(expected, predicted)\n",
    "print(\"Accuracy: %.2f%%\" % (accuracy * 100.0))\n",
    "\n",
    "print(\"Average = macro\")\n",
    "print('precision:', metrics.precision_score(expected, predicted, average='macro'))\n",
    "print('recall:', metrics.recall_score(expected, predicted, average='macro'))\n",
    "print('F1-score:', metrics.f1_score(expected, predicted, labels=[1, 2, 3, 4], average='macro'))\n",
    "\n",
    "print(\"\\n\")\n",
    "print(\"Average = micro\")\n",
    "print('precision:', metrics.precision_score(expected, predicted, average='micro'))\n",
    "print('recall:', metrics.recall_score(expected, predicted, average='micro'))\n",
    "print('F1-score:', metrics.f1_score(expected, predicted, labels=[1, 2, 3, 4], average='micro'))\n",
    "\n",
    "print(\"\\n\")\n",
    "print(\"Average = weighted\")\n",
    "print('precision:', metrics.precision_score(expected, predicted, average='weighted'))\n",
    "print('recall:', metrics.recall_score(expected, predicted, average='micro'))\n",
    "print('F1-score:', metrics.f1_score(expected, predicted, labels=[1, 2, 3, 4], average='weighted'))"
   ]
  },
  {
   "cell_type": "markdown",
   "source": [
    "# HW 4-1"
   ],
   "metadata": {
    "collapsed": false
   }
  },
  {
   "cell_type": "code",
   "execution_count": 26,
   "outputs": [
    {
     "data": {
      "text/plain": "array([0, 0, 0, 0, 0, 0, 0, 0, 0, 0, 1, 1, 1, 1, 1, 1, 1, 1, 1, 1, 1, 1,\n       1, 1, 1, 1, 1, 1, 1, 1, 1, 1, 1, 1, 1, 1, 1, 1, 1, 1, 1, 1, 1, 1,\n       1, 1, 1, 1, 1, 1, 1, 1, 2, 2, 2, 2, 2, 2, 2, 2, 2, 2, 2, 2, 2, 2,\n       2, 2, 3, 3, 3, 3, 3, 3, 3, 3, 3, 3, 3, 3, 3, 3, 3, 3, 4, 4, 4, 4,\n       4, 4, 4, 4, 4, 4, 4, 4, 4, 4, 4, 4, 4, 4, 4, 4, 4, 4, 4, 4, 4, 4,\n       4, 4, 4, 4, 4, 4, 4, 4, 4, 4, 4, 4, 4, 4, 4, 4, 4, 4, 4, 4, 4, 4,\n       5, 5, 5, 5, 5, 5, 5, 5, 5, 5, 5, 5, 5, 5, 5, 5, 5, 5, 5, 5, 5, 5,\n       5, 5, 5, 5, 5, 5, 5, 5, 5, 5, 5, 5, 5, 5, 5, 5, 5, 5, 5, 5, 5, 5,\n       5, 5, 5, 5, 6, 6, 6, 6, 6, 6, 6, 6, 6, 6, 6, 6, 6, 6, 6, 6, 6, 6,\n       6, 6, 6, 6, 6, 6, 6, 6, 6, 6, 6, 6, 6, 6, 6, 6, 6, 6, 6, 6, 6, 6,\n       6, 6, 6, 6, 6, 6, 6, 6, 7, 7, 7, 7, 7, 7, 7, 7, 7, 7, 7, 7, 7, 7,\n       7, 7, 7, 7, 7, 7, 7, 7, 7, 7, 7, 7, 7, 7, 7, 7, 7, 7, 7, 7, 7, 7,\n       7, 7, 7, 7, 7, 7, 7, 7, 7, 7, 7, 7])"
     },
     "execution_count": 26,
     "metadata": {},
     "output_type": "execute_result"
    }
   ],
   "source": [
    "testset = testset[testset.columns[:449]]\n",
    "svm.predict(testset)"
   ],
   "metadata": {
    "collapsed": false
   }
  },
  {
   "cell_type": "code",
   "execution_count": 27,
   "outputs": [
    {
     "data": {
      "text/plain": "array([0, 0, 4, 5, 4, 3, 7, 3, 0, 1])"
     },
     "execution_count": 27,
     "metadata": {},
     "output_type": "execute_result"
    }
   ],
   "source": [
    "sample = dataset.sample(n=10)\n",
    "predicted = svm.predict(sample)\n",
    "predicted"
   ],
   "metadata": {
    "collapsed": false
   }
  },
  {
   "cell_type": "code",
   "execution_count": 28,
   "outputs": [
    {
     "data": {
      "text/plain": "96      0\n85      0\n831     4\n1044    5\n760     4\n481     3\n1606    7\n586     3\n21      0\n329     1\nName: label, dtype: int64"
     },
     "execution_count": 28,
     "metadata": {},
     "output_type": "execute_result"
    }
   ],
   "source": [
    "expected = label[sample.index]\n",
    "expected"
   ],
   "metadata": {
    "collapsed": false
   }
  },
  {
   "cell_type": "code",
   "execution_count": 29,
   "outputs": [
    {
     "name": "stdout",
     "output_type": "stream",
     "text": [
      "              precision    recall  f1-score   support\n",
      "\n",
      "           0       1.00      1.00      1.00         3\n",
      "           1       1.00      1.00      1.00         1\n",
      "           3       1.00      1.00      1.00         2\n",
      "           4       1.00      1.00      1.00         2\n",
      "           5       1.00      1.00      1.00         1\n",
      "           7       1.00      1.00      1.00         1\n",
      "\n",
      "    accuracy                           1.00        10\n",
      "   macro avg       1.00      1.00      1.00        10\n",
      "weighted avg       1.00      1.00      1.00        10\n",
      "\n",
      "[[3 0 0 0 0 0]\n",
      " [0 1 0 0 0 0]\n",
      " [0 0 2 0 0 0]\n",
      " [0 0 0 2 0 0]\n",
      " [0 0 0 0 1 0]\n",
      " [0 0 0 0 0 1]]\n",
      "Accuracy: 100.00%\n",
      "precision: 1.0\n",
      "recall: 1.0\n",
      "F1-score: 0.75\n"
     ]
    },
    {
     "name": "stderr",
     "output_type": "stream",
     "text": [
      "/Users/sonodakazuto/.pyenv/versions/ML/lib/python3.10/site-packages/sklearn/metrics/_classification.py:1599: UndefinedMetricWarning: F-score is ill-defined and being set to 0.0 in labels with no true nor predicted samples. Use `zero_division` parameter to control this behavior.\n",
      "  _warn_prf(average, \"true nor predicted\", \"F-score is\", len(true_sum))\n"
     ]
    }
   ],
   "source": [
    "print(metrics.classification_report(expected, predicted))\n",
    "print(metrics.confusion_matrix(expected, predicted))\n",
    "accuracy = accuracy_score(expected, predicted)\n",
    "print(\"Accuracy: %.2f%%\" % (accuracy * 100.0))\n",
    "print('precision:', metrics.precision_score(expected, predicted, average='macro'))\n",
    "print('recall:', metrics.recall_score(expected, predicted, average='macro'))\n",
    "print('F1-score:', metrics.f1_score(expected, predicted, labels=[1, 2, 3, 4], average='macro'))\n"
   ],
   "metadata": {
    "collapsed": false
   }
  },
  {
   "cell_type": "markdown",
   "source": [
    "# HW 4-2\n"
   ],
   "metadata": {
    "collapsed": false
   }
  },
  {
   "cell_type": "code",
   "execution_count": 30,
   "outputs": [],
   "source": [
    "#10-fold cross-validation\n",
    "kfold = KFold(10, shuffle=True)\n",
    "predicted = []\n",
    "expected = []\n",
    "#Train model\n",
    "forest = ensemble.RandomForestClassifier(n_estimators=100)\n",
    "for train, test in kfold.split(dataset):\n",
    "\tX_train = dataset.iloc[train]\n",
    "\tY_train = label.iloc[train]\n",
    "\tX_test = dataset.iloc[test]\n",
    "\tY_test = label.iloc[test]\n",
    "\tforest.fit(X_train, Y_train)\n",
    "\texpected.extend(Y_test)\n",
    "\tpredicted.extend(svm.predict(X_test))"
   ],
   "metadata": {
    "collapsed": false
   }
  },
  {
   "cell_type": "code",
   "execution_count": 31,
   "outputs": [
    {
     "name": "stdout",
     "output_type": "stream",
     "text": [
      "Macro-average: 0.9740780900257833\n",
      "Micro-average: 0.9753015508328546\n",
      "              precision    recall  f1-score   support\n",
      "\n",
      "           0       1.00      0.95      0.98       145\n",
      "           1       0.95      0.91      0.93       207\n",
      "           2       1.00      0.96      0.98       119\n",
      "           3       0.90      0.97      0.94       238\n",
      "           4       0.97      0.99      0.98       256\n",
      "           5       1.00      1.00      1.00       264\n",
      "           6       1.00      0.99      1.00       240\n",
      "           7       0.99      1.00      0.99       272\n",
      "\n",
      "    accuracy                           0.98      1741\n",
      "   macro avg       0.98      0.97      0.97      1741\n",
      "weighted avg       0.98      0.98      0.98      1741\n",
      "\n",
      "[[138   1   0   0   6   0   0   0]\n",
      " [  0 188   0  19   0   0   0   0]\n",
      " [  0   0 114   5   0   0   0   0]\n",
      " [  0   7   0 231   0   0   0   0]\n",
      " [  0   0   0   0 254   0   0   2]\n",
      " [  0   0   0   0   0 264   0   0]\n",
      " [  0   1   0   1   0   0 238   0]\n",
      " [  0   0   0   0   1   0   0 271]]\n",
      "Accuracy: 97.53%\n",
      "Average = macro\n",
      "precision: 0.977814067514316\n",
      "recall: 0.9710857278709211\n",
      "F1-score: 0.9567620975281985\n",
      "\n",
      "\n",
      "Average = micro\n",
      "precision: 0.9753015508328546\n",
      "recall: 0.9753015508328546\n",
      "F1-score: 0.9550970873786407\n",
      "\n",
      "\n",
      "Average = weighted\n",
      "precision: 0.9761300317819104\n",
      "recall: 0.9753015508328546\n",
      "F1-score: 0.9551540652911706\n"
     ]
    }
   ],
   "source": [
    "print(\"Macro-average: {0}\".format(metrics.f1_score(expected, predicted, average='macro')))\n",
    "print(\"Micro-average: {0}\".format(metrics.f1_score(expected, predicted, average='micro')))\n",
    "print(metrics.classification_report(expected, predicted))\n",
    "print(metrics.confusion_matrix(expected, predicted))\n",
    "accuracy = accuracy_score(expected, predicted)\n",
    "print(\"Accuracy: %.2f%%\" % (accuracy * 100.0))\n",
    "\n",
    "print(\"Average = macro\")\n",
    "print('precision:', metrics.precision_score(expected, predicted, average='macro'))\n",
    "print('recall:', metrics.recall_score(expected, predicted, average='macro'))\n",
    "print('F1-score:', metrics.f1_score(expected, predicted, labels=[1, 2, 3, 4], average='macro'))\n",
    "\n",
    "print(\"\\n\")\n",
    "print(\"Average = micro\")\n",
    "print('precision:', metrics.precision_score(expected, predicted, average='micro'))\n",
    "print('recall:', metrics.recall_score(expected, predicted, average='micro'))\n",
    "print('F1-score:', metrics.f1_score(expected, predicted, labels=[1, 2, 3, 4], average='micro'))\n",
    "\n",
    "print(\"\\n\")\n",
    "print(\"Average = weighted\")\n",
    "print('precision:', metrics.precision_score(expected, predicted, average='weighted'))\n",
    "print('recall:', metrics.recall_score(expected, predicted, average='micro'))\n",
    "print('F1-score:', metrics.f1_score(expected, predicted, labels=[1, 2, 3, 4], average='weighted'))"
   ],
   "metadata": {
    "collapsed": false
   }
  },
  {
   "cell_type": "code",
   "execution_count": 32,
   "outputs": [
    {
     "data": {
      "text/plain": "array([0, 0, 0, 0, 0, 0, 0, 0, 0, 0, 1, 1, 1, 1, 1, 1, 1, 1, 1, 1, 1, 1,\n       1, 1, 1, 1, 1, 1, 1, 1, 1, 1, 1, 1, 1, 1, 1, 1, 1, 1, 1, 1, 1, 1,\n       1, 1, 1, 1, 1, 1, 1, 1, 2, 2, 2, 2, 2, 2, 2, 2, 2, 2, 2, 2, 2, 2,\n       2, 2, 3, 3, 3, 3, 3, 3, 3, 3, 3, 3, 3, 3, 3, 3, 3, 3, 4, 4, 4, 4,\n       4, 4, 4, 4, 4, 4, 4, 4, 4, 4, 4, 4, 4, 4, 4, 4, 4, 4, 4, 4, 4, 4,\n       4, 4, 4, 4, 4, 4, 4, 4, 4, 4, 4, 4, 4, 4, 4, 4, 4, 4, 4, 4, 4, 4,\n       5, 5, 5, 5, 5, 5, 5, 5, 5, 5, 5, 5, 5, 5, 5, 5, 5, 5, 5, 5, 5, 5,\n       5, 5, 5, 5, 5, 5, 5, 5, 5, 5, 5, 5, 5, 5, 5, 5, 5, 5, 5, 5, 5, 5,\n       5, 5, 5, 5, 6, 6, 6, 6, 6, 6, 6, 6, 6, 6, 6, 6, 6, 6, 6, 6, 6, 6,\n       6, 6, 6, 6, 6, 6, 6, 6, 6, 6, 6, 6, 6, 6, 6, 6, 6, 6, 6, 6, 6, 6,\n       6, 6, 6, 6, 6, 6, 6, 6, 7, 7, 7, 7, 7, 7, 7, 7, 7, 7, 7, 7, 7, 7,\n       7, 7, 7, 7, 7, 7, 7, 7, 7, 7, 7, 7, 7, 7, 7, 7, 7, 7, 7, 7, 7, 7,\n       7, 7, 7, 7, 7, 7, 7, 7, 7, 7, 7, 7])"
     },
     "execution_count": 32,
     "metadata": {},
     "output_type": "execute_result"
    }
   ],
   "source": [
    "testset = testset[testset.columns[:449]]\n",
    "svm.predict(testset)"
   ],
   "metadata": {
    "collapsed": false
   }
  },
  {
   "cell_type": "code",
   "execution_count": 33,
   "outputs": [
    {
     "data": {
      "text/plain": "array([6, 6, 6, 4, 3, 3, 6, 3, 7, 0])"
     },
     "execution_count": 33,
     "metadata": {},
     "output_type": "execute_result"
    }
   ],
   "source": [
    "sample = dataset.sample(n=10)\n",
    "predicted = svm.predict(sample)\n",
    "predicted"
   ],
   "metadata": {
    "collapsed": false
   }
  },
  {
   "cell_type": "code",
   "execution_count": 34,
   "outputs": [
    {
     "data": {
      "text/plain": "1391    6\n1434    6\n1239    6\n766     4\n502     3\n545     3\n1450    6\n676     3\n1662    7\n66      0\nName: label, dtype: int64"
     },
     "execution_count": 34,
     "metadata": {},
     "output_type": "execute_result"
    }
   ],
   "source": [
    "expected = label[sample.index]\n",
    "expected"
   ],
   "metadata": {
    "collapsed": false
   }
  },
  {
   "cell_type": "code",
   "execution_count": 35,
   "outputs": [
    {
     "name": "stdout",
     "output_type": "stream",
     "text": [
      "              precision    recall  f1-score   support\n",
      "\n",
      "           0       1.00      1.00      1.00         1\n",
      "           3       1.00      1.00      1.00         3\n",
      "           4       1.00      1.00      1.00         1\n",
      "           6       1.00      1.00      1.00         4\n",
      "           7       1.00      1.00      1.00         1\n",
      "\n",
      "    accuracy                           1.00        10\n",
      "   macro avg       1.00      1.00      1.00        10\n",
      "weighted avg       1.00      1.00      1.00        10\n",
      "\n",
      "[[1 0 0 0 0]\n",
      " [0 3 0 0 0]\n",
      " [0 0 1 0 0]\n",
      " [0 0 0 4 0]\n",
      " [0 0 0 0 1]]\n",
      "Accuracy: 100.00%\n",
      "precision: 1.0\n",
      "recall: 1.0\n",
      "F1-score: 0.5\n"
     ]
    },
    {
     "name": "stderr",
     "output_type": "stream",
     "text": [
      "/Users/sonodakazuto/.pyenv/versions/ML/lib/python3.10/site-packages/sklearn/metrics/_classification.py:1599: UndefinedMetricWarning: F-score is ill-defined and being set to 0.0 in labels with no true nor predicted samples. Use `zero_division` parameter to control this behavior.\n",
      "  _warn_prf(average, \"true nor predicted\", \"F-score is\", len(true_sum))\n"
     ]
    }
   ],
   "source": [
    "print(metrics.classification_report(expected, predicted))\n",
    "print(metrics.confusion_matrix(expected, predicted))\n",
    "accuracy = accuracy_score(expected, predicted)\n",
    "print(\"Accuracy: %.2f%%\" % (accuracy * 100.0))\n",
    "print('precision:', metrics.precision_score(expected, predicted, average='macro'))\n",
    "print('recall:', metrics.recall_score(expected, predicted, average='macro'))\n",
    "print('F1-score:', metrics.f1_score(expected, predicted, labels=[1, 2, 3, 4], average='macro'))\n"
   ],
   "metadata": {
    "collapsed": false
   }
  }
 ],
 "metadata": {
  "kernelspec": {
   "display_name": "Python 3",
   "language": "python",
   "name": "python3"
  },
  "language_info": {
   "codemirror_mode": {
    "name": "ipython",
    "version": 3
   },
   "file_extension": ".py",
   "mimetype": "text/x-python",
   "name": "python",
   "nbconvert_exporter": "python",
   "pygments_lexer": "ipython3",
   "version": "3.8.3"
  }
 },
 "nbformat": 4,
 "nbformat_minor": 2
}
