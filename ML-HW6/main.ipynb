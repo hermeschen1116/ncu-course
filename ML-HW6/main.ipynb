{
 "cells": [
  {
   "cell_type": "code",
   "execution_count": 885,
   "id": "70bca666",
   "metadata": {},
   "outputs": [],
   "source": [
    "import numpy as np\n",
    "import pandas as pd\n",
    "from keras import Sequential\n",
    "from keras.layers import Dense, Activation\n",
    "from matplotlib import pyplot as plt\n",
    "from sklearn.metrics import classification_report\n",
    "from sklearn.model_selection import train_test_split\n",
    "\n",
    "%matplotlib inline"
   ]
  },
  {
   "cell_type": "markdown",
   "id": "73b3d703",
   "metadata": {},
   "source": [
    "# Training phase"
   ]
  },
  {
   "cell_type": "markdown",
   "id": "f67defbf",
   "metadata": {},
   "source": [
    "### Load Data"
   ]
  },
  {
   "cell_type": "code",
   "execution_count": 886,
   "id": "6639bdbb",
   "metadata": {},
   "outputs": [],
   "source": [
    "# load train.csv and training-label.csv\n",
    "train_data: pd.DataFrame = pd.read_csv(\"data/train.csv\", encoding=\"utf-8\")\n",
    "train_label: pd.DataFrame = pd.read_csv(\"data/train_label.csv\", encoding=\"utf-8\")"
   ]
  },
  {
   "cell_type": "markdown",
   "id": "74ee8f2c",
   "metadata": {},
   "source": [
    "### Data Preprocessing"
   ]
  },
  {
   "cell_type": "code",
   "execution_count": 887,
   "id": "8b71ebea",
   "metadata": {
    "scrolled": true
   },
   "outputs": [],
   "source": [
    "# drop created_time column\n",
    "train_data.drop(\"created_time\", axis=1, inplace=True)"
   ]
  },
  {
   "cell_type": "code",
   "execution_count": 888,
   "id": "e16dbbcf",
   "metadata": {},
   "outputs": [],
   "source": [
    "# Count whether each mac_hash has passed through these 14 locations, and generate a training dataframe\n",
    "row_buffer: dict = dict()\n",
    "for _, value in enumerate(zip(train_data[\"mac_hash\"].values.tolist(), train_data[\"sniffer_loc\"].values.tolist())):\n",
    "    if value[0] not in row_buffer.keys():\n",
    "        row_buffer[value[0]] = [0 for _ in range(14)]\n",
    "    row_buffer[value[0]][int(value[1]) - 1] = 1\n",
    "train_set: pd.DataFrame = pd.DataFrame(row_buffer).transpose()\n",
    "train_set.columns = [\"1\", \"2\", \"3\", \"4\", \"5\", \"6\", \"7\", \"8\", \"9\", \"10\", \"11\", \"12\", \"13\", \"14\"]\n",
    "train_set[\"mac_hash\"] = train_set.index\n",
    "train_set.reset_index(inplace=True)\n",
    "train_set.drop(\"index\", axis=1, inplace=True)"
   ]
  },
  {
   "cell_type": "code",
   "execution_count": 889,
   "id": "b09363aa",
   "metadata": {
    "scrolled": true
   },
   "outputs": [
    {
     "data": {
      "text/html": "<div>\n<style scoped>\n    .dataframe tbody tr th:only-of-type {\n        vertical-align: middle;\n    }\n\n    .dataframe tbody tr th {\n        vertical-align: top;\n    }\n\n    .dataframe thead th {\n        text-align: right;\n    }\n</style>\n<table border=\"1\" class=\"dataframe\">\n  <thead>\n    <tr style=\"text-align: right;\">\n      <th></th>\n      <th>1</th>\n      <th>2</th>\n      <th>3</th>\n      <th>4</th>\n      <th>5</th>\n      <th>6</th>\n      <th>7</th>\n      <th>8</th>\n      <th>9</th>\n      <th>10</th>\n      <th>11</th>\n      <th>12</th>\n      <th>13</th>\n      <th>14</th>\n      <th>mac_hash</th>\n      <th>label</th>\n    </tr>\n  </thead>\n  <tbody>\n    <tr>\n      <th>0</th>\n      <td>0</td>\n      <td>1</td>\n      <td>1</td>\n      <td>1</td>\n      <td>1</td>\n      <td>1</td>\n      <td>1</td>\n      <td>0</td>\n      <td>1</td>\n      <td>1</td>\n      <td>1</td>\n      <td>1</td>\n      <td>0</td>\n      <td>1</td>\n      <td>10f6ad2e3fa3b3da8ceb3fbd95658681</td>\n      <td>4</td>\n    </tr>\n    <tr>\n      <th>1</th>\n      <td>0</td>\n      <td>0</td>\n      <td>0</td>\n      <td>0</td>\n      <td>0</td>\n      <td>0</td>\n      <td>0</td>\n      <td>0</td>\n      <td>0</td>\n      <td>0</td>\n      <td>0</td>\n      <td>1</td>\n      <td>0</td>\n      <td>0</td>\n      <td>5272841b630d74290ec129c64dd6378b</td>\n      <td>0</td>\n    </tr>\n    <tr>\n      <th>2</th>\n      <td>1</td>\n      <td>1</td>\n      <td>1</td>\n      <td>1</td>\n      <td>1</td>\n      <td>1</td>\n      <td>1</td>\n      <td>1</td>\n      <td>1</td>\n      <td>1</td>\n      <td>1</td>\n      <td>1</td>\n      <td>1</td>\n      <td>0</td>\n      <td>8ab74d094708a27c9660e897b93a50f9</td>\n      <td>3</td>\n    </tr>\n    <tr>\n      <th>3</th>\n      <td>0</td>\n      <td>1</td>\n      <td>1</td>\n      <td>1</td>\n      <td>0</td>\n      <td>0</td>\n      <td>1</td>\n      <td>0</td>\n      <td>1</td>\n      <td>0</td>\n      <td>1</td>\n      <td>0</td>\n      <td>0</td>\n      <td>0</td>\n      <td>3d00887dd6e574dd63974bc6c69b23b0</td>\n      <td>1</td>\n    </tr>\n    <tr>\n      <th>4</th>\n      <td>0</td>\n      <td>1</td>\n      <td>1</td>\n      <td>0</td>\n      <td>1</td>\n      <td>0</td>\n      <td>0</td>\n      <td>0</td>\n      <td>0</td>\n      <td>0</td>\n      <td>0</td>\n      <td>1</td>\n      <td>0</td>\n      <td>0</td>\n      <td>6461fce7f6f184401c961fda75069262</td>\n      <td>1</td>\n    </tr>\n    <tr>\n      <th>...</th>\n      <td>...</td>\n      <td>...</td>\n      <td>...</td>\n      <td>...</td>\n      <td>...</td>\n      <td>...</td>\n      <td>...</td>\n      <td>...</td>\n      <td>...</td>\n      <td>...</td>\n      <td>...</td>\n      <td>...</td>\n      <td>...</td>\n      <td>...</td>\n      <td>...</td>\n      <td>...</td>\n    </tr>\n    <tr>\n      <th>5563</th>\n      <td>0</td>\n      <td>0</td>\n      <td>0</td>\n      <td>0</td>\n      <td>0</td>\n      <td>0</td>\n      <td>0</td>\n      <td>0</td>\n      <td>0</td>\n      <td>0</td>\n      <td>0</td>\n      <td>1</td>\n      <td>0</td>\n      <td>1</td>\n      <td>82498aa0a931e2f37fd29998a77c6dd0</td>\n      <td>0</td>\n    </tr>\n    <tr>\n      <th>5564</th>\n      <td>0</td>\n      <td>0</td>\n      <td>1</td>\n      <td>0</td>\n      <td>0</td>\n      <td>0</td>\n      <td>0</td>\n      <td>0</td>\n      <td>0</td>\n      <td>0</td>\n      <td>0</td>\n      <td>0</td>\n      <td>0</td>\n      <td>0</td>\n      <td>656ddc677dcb8661ff5d782742fcecfd</td>\n      <td>0</td>\n    </tr>\n    <tr>\n      <th>5565</th>\n      <td>1</td>\n      <td>0</td>\n      <td>0</td>\n      <td>0</td>\n      <td>0</td>\n      <td>0</td>\n      <td>0</td>\n      <td>0</td>\n      <td>0</td>\n      <td>0</td>\n      <td>0</td>\n      <td>0</td>\n      <td>0</td>\n      <td>0</td>\n      <td>98d389a4b2f378f8217a02416aaa9349</td>\n      <td>0</td>\n    </tr>\n    <tr>\n      <th>5566</th>\n      <td>0</td>\n      <td>1</td>\n      <td>0</td>\n      <td>1</td>\n      <td>0</td>\n      <td>1</td>\n      <td>0</td>\n      <td>0</td>\n      <td>0</td>\n      <td>0</td>\n      <td>1</td>\n      <td>0</td>\n      <td>0</td>\n      <td>0</td>\n      <td>1eff5eae7401ee128798660ea6b6f09b</td>\n      <td>1</td>\n    </tr>\n    <tr>\n      <th>5567</th>\n      <td>1</td>\n      <td>1</td>\n      <td>1</td>\n      <td>1</td>\n      <td>1</td>\n      <td>1</td>\n      <td>1</td>\n      <td>1</td>\n      <td>1</td>\n      <td>0</td>\n      <td>1</td>\n      <td>0</td>\n      <td>0</td>\n      <td>0</td>\n      <td>13a3e10f950d8050ab5437cf30a3c2c6</td>\n      <td>3</td>\n    </tr>\n  </tbody>\n</table>\n<p>5568 rows × 16 columns</p>\n</div>",
      "text/plain": "      1  2  3  4  5  6  7  8  9  10  11  12  13  14  \\\n0     0  1  1  1  1  1  1  0  1   1   1   1   0   1   \n1     0  0  0  0  0  0  0  0  0   0   0   1   0   0   \n2     1  1  1  1  1  1  1  1  1   1   1   1   1   0   \n3     0  1  1  1  0  0  1  0  1   0   1   0   0   0   \n4     0  1  1  0  1  0  0  0  0   0   0   1   0   0   \n...  .. .. .. .. .. .. .. .. ..  ..  ..  ..  ..  ..   \n5563  0  0  0  0  0  0  0  0  0   0   0   1   0   1   \n5564  0  0  1  0  0  0  0  0  0   0   0   0   0   0   \n5565  1  0  0  0  0  0  0  0  0   0   0   0   0   0   \n5566  0  1  0  1  0  1  0  0  0   0   1   0   0   0   \n5567  1  1  1  1  1  1  1  1  1   0   1   0   0   0   \n\n                              mac_hash  label  \n0     10f6ad2e3fa3b3da8ceb3fbd95658681      4  \n1     5272841b630d74290ec129c64dd6378b      0  \n2     8ab74d094708a27c9660e897b93a50f9      3  \n3     3d00887dd6e574dd63974bc6c69b23b0      1  \n4     6461fce7f6f184401c961fda75069262      1  \n...                                ...    ...  \n5563  82498aa0a931e2f37fd29998a77c6dd0      0  \n5564  656ddc677dcb8661ff5d782742fcecfd      0  \n5565  98d389a4b2f378f8217a02416aaa9349      0  \n5566  1eff5eae7401ee128798660ea6b6f09b      1  \n5567  13a3e10f950d8050ab5437cf30a3c2c6      3  \n\n[5568 rows x 16 columns]"
     },
     "execution_count": 889,
     "metadata": {},
     "output_type": "execute_result"
    }
   ],
   "source": [
    "# Add label column\n",
    "train_set = train_set.merge(train_label)\n",
    "train_set"
   ]
  },
  {
   "cell_type": "markdown",
   "id": "0c11f6a1",
   "metadata": {},
   "source": [
    "### Training"
   ]
  },
  {
   "cell_type": "code",
   "execution_count": 890,
   "id": "a15973ef",
   "metadata": {
    "scrolled": false
   },
   "outputs": [
    {
     "data": {
      "text/html": "<div>\n<style scoped>\n    .dataframe tbody tr th:only-of-type {\n        vertical-align: middle;\n    }\n\n    .dataframe tbody tr th {\n        vertical-align: top;\n    }\n\n    .dataframe thead th {\n        text-align: right;\n    }\n</style>\n<table border=\"1\" class=\"dataframe\">\n  <thead>\n    <tr style=\"text-align: right;\">\n      <th></th>\n      <th>1</th>\n      <th>2</th>\n      <th>3</th>\n      <th>4</th>\n      <th>5</th>\n      <th>6</th>\n      <th>7</th>\n      <th>8</th>\n      <th>9</th>\n      <th>10</th>\n      <th>11</th>\n      <th>12</th>\n      <th>13</th>\n      <th>14</th>\n    </tr>\n  </thead>\n  <tbody>\n    <tr>\n      <th>0</th>\n      <td>0</td>\n      <td>1</td>\n      <td>1</td>\n      <td>1</td>\n      <td>1</td>\n      <td>1</td>\n      <td>1</td>\n      <td>0</td>\n      <td>1</td>\n      <td>1</td>\n      <td>1</td>\n      <td>1</td>\n      <td>0</td>\n      <td>1</td>\n    </tr>\n    <tr>\n      <th>1</th>\n      <td>0</td>\n      <td>0</td>\n      <td>0</td>\n      <td>0</td>\n      <td>0</td>\n      <td>0</td>\n      <td>0</td>\n      <td>0</td>\n      <td>0</td>\n      <td>0</td>\n      <td>0</td>\n      <td>1</td>\n      <td>0</td>\n      <td>0</td>\n    </tr>\n    <tr>\n      <th>2</th>\n      <td>1</td>\n      <td>1</td>\n      <td>1</td>\n      <td>1</td>\n      <td>1</td>\n      <td>1</td>\n      <td>1</td>\n      <td>1</td>\n      <td>1</td>\n      <td>1</td>\n      <td>1</td>\n      <td>1</td>\n      <td>1</td>\n      <td>0</td>\n    </tr>\n    <tr>\n      <th>3</th>\n      <td>0</td>\n      <td>1</td>\n      <td>1</td>\n      <td>1</td>\n      <td>0</td>\n      <td>0</td>\n      <td>1</td>\n      <td>0</td>\n      <td>1</td>\n      <td>0</td>\n      <td>1</td>\n      <td>0</td>\n      <td>0</td>\n      <td>0</td>\n    </tr>\n    <tr>\n      <th>4</th>\n      <td>0</td>\n      <td>1</td>\n      <td>1</td>\n      <td>0</td>\n      <td>1</td>\n      <td>0</td>\n      <td>0</td>\n      <td>0</td>\n      <td>0</td>\n      <td>0</td>\n      <td>0</td>\n      <td>1</td>\n      <td>0</td>\n      <td>0</td>\n    </tr>\n    <tr>\n      <th>...</th>\n      <td>...</td>\n      <td>...</td>\n      <td>...</td>\n      <td>...</td>\n      <td>...</td>\n      <td>...</td>\n      <td>...</td>\n      <td>...</td>\n      <td>...</td>\n      <td>...</td>\n      <td>...</td>\n      <td>...</td>\n      <td>...</td>\n      <td>...</td>\n    </tr>\n    <tr>\n      <th>5563</th>\n      <td>0</td>\n      <td>0</td>\n      <td>0</td>\n      <td>0</td>\n      <td>0</td>\n      <td>0</td>\n      <td>0</td>\n      <td>0</td>\n      <td>0</td>\n      <td>0</td>\n      <td>0</td>\n      <td>1</td>\n      <td>0</td>\n      <td>1</td>\n    </tr>\n    <tr>\n      <th>5564</th>\n      <td>0</td>\n      <td>0</td>\n      <td>1</td>\n      <td>0</td>\n      <td>0</td>\n      <td>0</td>\n      <td>0</td>\n      <td>0</td>\n      <td>0</td>\n      <td>0</td>\n      <td>0</td>\n      <td>0</td>\n      <td>0</td>\n      <td>0</td>\n    </tr>\n    <tr>\n      <th>5565</th>\n      <td>1</td>\n      <td>0</td>\n      <td>0</td>\n      <td>0</td>\n      <td>0</td>\n      <td>0</td>\n      <td>0</td>\n      <td>0</td>\n      <td>0</td>\n      <td>0</td>\n      <td>0</td>\n      <td>0</td>\n      <td>0</td>\n      <td>0</td>\n    </tr>\n    <tr>\n      <th>5566</th>\n      <td>0</td>\n      <td>1</td>\n      <td>0</td>\n      <td>1</td>\n      <td>0</td>\n      <td>1</td>\n      <td>0</td>\n      <td>0</td>\n      <td>0</td>\n      <td>0</td>\n      <td>1</td>\n      <td>0</td>\n      <td>0</td>\n      <td>0</td>\n    </tr>\n    <tr>\n      <th>5567</th>\n      <td>1</td>\n      <td>1</td>\n      <td>1</td>\n      <td>1</td>\n      <td>1</td>\n      <td>1</td>\n      <td>1</td>\n      <td>1</td>\n      <td>1</td>\n      <td>0</td>\n      <td>1</td>\n      <td>0</td>\n      <td>0</td>\n      <td>0</td>\n    </tr>\n  </tbody>\n</table>\n<p>5568 rows × 14 columns</p>\n</div>",
      "text/plain": "      1  2  3  4  5  6  7  8  9  10  11  12  13  14\n0     0  1  1  1  1  1  1  0  1   1   1   1   0   1\n1     0  0  0  0  0  0  0  0  0   0   0   1   0   0\n2     1  1  1  1  1  1  1  1  1   1   1   1   1   0\n3     0  1  1  1  0  0  1  0  1   0   1   0   0   0\n4     0  1  1  0  1  0  0  0  0   0   0   1   0   0\n...  .. .. .. .. .. .. .. .. ..  ..  ..  ..  ..  ..\n5563  0  0  0  0  0  0  0  0  0   0   0   1   0   1\n5564  0  0  1  0  0  0  0  0  0   0   0   0   0   0\n5565  1  0  0  0  0  0  0  0  0   0   0   0   0   0\n5566  0  1  0  1  0  1  0  0  0   0   1   0   0   0\n5567  1  1  1  1  1  1  1  1  1   0   1   0   0   0\n\n[5568 rows x 14 columns]"
     },
     "execution_count": 890,
     "metadata": {},
     "output_type": "execute_result"
    }
   ],
   "source": [
    "# X: feature from training dataframe\n",
    "data = train_set.drop([\"mac_hash\", \"label\"], axis=1)\n",
    "data"
   ]
  },
  {
   "cell_type": "code",
   "execution_count": 891,
   "id": "51caaab5",
   "metadata": {
    "scrolled": false
   },
   "outputs": [
    {
     "data": {
      "text/html": "<div>\n<style scoped>\n    .dataframe tbody tr th:only-of-type {\n        vertical-align: middle;\n    }\n\n    .dataframe tbody tr th {\n        vertical-align: top;\n    }\n\n    .dataframe thead th {\n        text-align: right;\n    }\n</style>\n<table border=\"1\" class=\"dataframe\">\n  <thead>\n    <tr style=\"text-align: right;\">\n      <th></th>\n      <th>0</th>\n      <th>1</th>\n      <th>2</th>\n      <th>3</th>\n      <th>4</th>\n    </tr>\n  </thead>\n  <tbody>\n    <tr>\n      <th>0</th>\n      <td>0</td>\n      <td>0</td>\n      <td>0</td>\n      <td>0</td>\n      <td>1</td>\n    </tr>\n    <tr>\n      <th>1</th>\n      <td>1</td>\n      <td>0</td>\n      <td>0</td>\n      <td>0</td>\n      <td>0</td>\n    </tr>\n    <tr>\n      <th>2</th>\n      <td>0</td>\n      <td>0</td>\n      <td>0</td>\n      <td>1</td>\n      <td>0</td>\n    </tr>\n    <tr>\n      <th>3</th>\n      <td>0</td>\n      <td>1</td>\n      <td>0</td>\n      <td>0</td>\n      <td>0</td>\n    </tr>\n    <tr>\n      <th>4</th>\n      <td>0</td>\n      <td>1</td>\n      <td>0</td>\n      <td>0</td>\n      <td>0</td>\n    </tr>\n    <tr>\n      <th>...</th>\n      <td>...</td>\n      <td>...</td>\n      <td>...</td>\n      <td>...</td>\n      <td>...</td>\n    </tr>\n    <tr>\n      <th>5563</th>\n      <td>1</td>\n      <td>0</td>\n      <td>0</td>\n      <td>0</td>\n      <td>0</td>\n    </tr>\n    <tr>\n      <th>5564</th>\n      <td>1</td>\n      <td>0</td>\n      <td>0</td>\n      <td>0</td>\n      <td>0</td>\n    </tr>\n    <tr>\n      <th>5565</th>\n      <td>1</td>\n      <td>0</td>\n      <td>0</td>\n      <td>0</td>\n      <td>0</td>\n    </tr>\n    <tr>\n      <th>5566</th>\n      <td>0</td>\n      <td>1</td>\n      <td>0</td>\n      <td>0</td>\n      <td>0</td>\n    </tr>\n    <tr>\n      <th>5567</th>\n      <td>0</td>\n      <td>0</td>\n      <td>0</td>\n      <td>1</td>\n      <td>0</td>\n    </tr>\n  </tbody>\n</table>\n<p>5568 rows × 5 columns</p>\n</div>",
      "text/plain": "      0  1  2  3  4\n0     0  0  0  0  1\n1     1  0  0  0  0\n2     0  0  0  1  0\n3     0  1  0  0  0\n4     0  1  0  0  0\n...  .. .. .. .. ..\n5563  1  0  0  0  0\n5564  1  0  0  0  0\n5565  1  0  0  0  0\n5566  0  1  0  0  0\n5567  0  0  0  1  0\n\n[5568 rows x 5 columns]"
     },
     "execution_count": 891,
     "metadata": {},
     "output_type": "execute_result"
    }
   ],
   "source": [
    "# Y: label from training dataframe\n",
    "# you need to change your label from categorical encoding to one-hot encoding\n",
    "label = pd.get_dummies(train_set[\"label\"])\n",
    "label"
   ]
  },
  {
   "cell_type": "code",
   "execution_count": 892,
   "id": "6aecfc77",
   "metadata": {},
   "outputs": [],
   "source": [
    "# split your dataset as training dataset and validation dataset\n",
    "# using train_test_split function,\n",
    "train_data, val_data, train_labels, val_labels = train_test_split(data, label, random_state=0, test_size=0.2)"
   ]
  },
  {
   "cell_type": "code",
   "execution_count": 893,
   "id": "10ec2192",
   "metadata": {},
   "outputs": [],
   "source": [
    "# build DNN model\n",
    "def classifier_dnn():\n",
    "    model = Sequential()\n",
    "    model.add(Dense(input_dim=14, units=40))\n",
    "    model.add(Activation(\"relu\"))\n",
    "    model.add(Dense(units=100))\n",
    "    model.add(Activation(\"relu\"))\n",
    "    model.add(Dense(units=10))\n",
    "    model.add(Activation(\"relu\"))\n",
    "    model.add(Dense(units=5))\n",
    "    model.add(Activation(\"sigmoid\"))\n",
    "    model.summary()\n",
    "\n",
    "    return model"
   ]
  },
  {
   "cell_type": "code",
   "execution_count": 894,
   "id": "7fb27b941602401d91542211134fc71a",
   "metadata": {
    "collapsed": false
   },
   "outputs": [],
   "source": [
    "def show_train_history(log, train, validation, metrics):\n",
    "    plt.plot(log.history[train])\n",
    "    plt.plot(log.history[validation])\n",
    "    plt.title(\"Train History\")\n",
    "    plt.ylabel(metrics)\n",
    "    plt.xlabel(\"Epoch\")\n",
    "    plt.legend([\"train\", \"validation\"], loc=\"upper left\")\n",
    "    plt.show()"
   ]
  },
  {
   "cell_type": "code",
   "execution_count": 895,
   "id": "acae54e37e7d407bbb7b55eff062a284",
   "metadata": {
    "collapsed": false
   },
   "outputs": [],
   "source": [
    "num_epoch: int = 20"
   ]
  },
  {
   "cell_type": "code",
   "execution_count": 896,
   "id": "91a3c995",
   "metadata": {
    "scrolled": true
   },
   "outputs": [
    {
     "name": "stdout",
     "output_type": "stream",
     "text": [
      "Model: \"sequential_21\"\n",
      "_________________________________________________________________\n",
      " Layer (type)                Output Shape              Param #   \n",
      "=================================================================\n",
      " dense_81 (Dense)            (None, 40)                600       \n",
      "                                                                 \n",
      " activation_81 (Activation)  (None, 40)                0         \n",
      "                                                                 \n",
      " dense_82 (Dense)            (None, 100)               4100      \n",
      "                                                                 \n",
      " activation_82 (Activation)  (None, 100)               0         \n",
      "                                                                 \n",
      " dense_83 (Dense)            (None, 10)                1010      \n",
      "                                                                 \n",
      " activation_83 (Activation)  (None, 10)                0         \n",
      "                                                                 \n",
      " dense_84 (Dense)            (None, 5)                 55        \n",
      "                                                                 \n",
      " activation_84 (Activation)  (None, 5)                 0         \n",
      "                                                                 \n",
      "=================================================================\n",
      "Total params: 5,765\n",
      "Trainable params: 5,765\n",
      "Non-trainable params: 0\n",
      "_________________________________________________________________\n",
      "Epoch 1/20\n",
      "149/149 [==============================] - 2s 4ms/step - loss: 1.0304 - acc: 0.6152 - val_loss: 0.4928 - val_acc: 0.8968\n",
      "Epoch 2/20\n",
      "149/149 [==============================] - 0s 2ms/step - loss: 0.2755 - acc: 0.9344 - val_loss: 0.1590 - val_acc: 0.9686\n",
      "Epoch 3/20\n",
      "149/149 [==============================] - 0s 2ms/step - loss: 0.1443 - acc: 0.9639 - val_loss: 0.1055 - val_acc: 0.9767\n",
      "Epoch 4/20\n",
      "149/149 [==============================] - 0s 2ms/step - loss: 0.1097 - acc: 0.9690 - val_loss: 0.0844 - val_acc: 0.9794\n",
      "Epoch 5/20\n",
      "149/149 [==============================] - 0s 2ms/step - loss: 0.0926 - acc: 0.9751 - val_loss: 0.0820 - val_acc: 0.9794\n",
      "Epoch 6/20\n",
      "149/149 [==============================] - 0s 2ms/step - loss: 0.0812 - acc: 0.9789 - val_loss: 0.0778 - val_acc: 0.9785\n",
      "Epoch 7/20\n",
      "149/149 [==============================] - 0s 2ms/step - loss: 0.0721 - acc: 0.9825 - val_loss: 0.0693 - val_acc: 0.9758\n",
      "Epoch 8/20\n",
      "149/149 [==============================] - 0s 2ms/step - loss: 0.0638 - acc: 0.9832 - val_loss: 0.0653 - val_acc: 0.9847\n",
      "Epoch 9/20\n",
      "149/149 [==============================] - 0s 2ms/step - loss: 0.0598 - acc: 0.9836 - val_loss: 0.0507 - val_acc: 0.9874\n",
      "Epoch 10/20\n",
      "149/149 [==============================] - 0s 2ms/step - loss: 0.0569 - acc: 0.9863 - val_loss: 0.0512 - val_acc: 0.9910\n",
      "Epoch 11/20\n",
      "149/149 [==============================] - 0s 3ms/step - loss: 0.0549 - acc: 0.9861 - val_loss: 0.0545 - val_acc: 0.9820\n",
      "Epoch 12/20\n",
      "149/149 [==============================] - 0s 3ms/step - loss: 0.0508 - acc: 0.9879 - val_loss: 0.0481 - val_acc: 0.9838\n",
      "Epoch 13/20\n",
      "149/149 [==============================] - 0s 2ms/step - loss: 0.0460 - acc: 0.9885 - val_loss: 0.0569 - val_acc: 0.9865\n",
      "Epoch 14/20\n",
      "149/149 [==============================] - 0s 2ms/step - loss: 0.0444 - acc: 0.9897 - val_loss: 0.0532 - val_acc: 0.9811\n",
      "Epoch 15/20\n",
      "149/149 [==============================] - 0s 2ms/step - loss: 0.0458 - acc: 0.9899 - val_loss: 0.0422 - val_acc: 0.9865\n",
      "Epoch 16/20\n",
      "149/149 [==============================] - 0s 2ms/step - loss: 0.0457 - acc: 0.9883 - val_loss: 0.0502 - val_acc: 0.9874\n",
      "Epoch 17/20\n",
      "149/149 [==============================] - 0s 2ms/step - loss: 0.0396 - acc: 0.9919 - val_loss: 0.0517 - val_acc: 0.9847\n",
      "Epoch 18/20\n",
      "149/149 [==============================] - 0s 2ms/step - loss: 0.0426 - acc: 0.9885 - val_loss: 0.0900 - val_acc: 0.9749\n",
      "Epoch 19/20\n",
      "149/149 [==============================] - 0s 3ms/step - loss: 0.0432 - acc: 0.9897 - val_loss: 0.0557 - val_acc: 0.9811\n",
      "Epoch 20/20\n",
      "149/149 [==============================] - 0s 3ms/step - loss: 0.0365 - acc: 0.9903 - val_loss: 0.0560 - val_acc: 0.9847\n"
     ]
    }
   ],
   "source": [
    "# start train model\n",
    "classifier = classifier_dnn()\n",
    "classifier.compile(loss=\"categorical_crossentropy\", optimizer=\"adam\", metrics=[\"acc\"])\n",
    "train_log = classifier.fit(\n",
    "    train_data,\n",
    "    train_labels,\n",
    "    validation_data=(val_data, val_labels),\n",
    "    batch_size=30,\n",
    "    epochs=num_epoch,\n",
    "    workers=4,\n",
    "    use_multiprocessing=True,\n",
    ")"
   ]
  },
  {
   "cell_type": "code",
   "execution_count": 897,
   "id": "9a63283cbaf04dbcab1f6479b197f3a8",
   "metadata": {
    "collapsed": false
   },
   "outputs": [
    {
     "data": {
      "image/png": "[encoded data removed]",
      "text/plain": "<Figure size 640x480 with 1 Axes>"
     },
     "metadata": {},
     "output_type": "display_data"
    },
    {
     "data": {
      "image/png": "[encoded data removed]",
      "text/plain": "<Figure size 640x480 with 1 Axes>"
     },
     "metadata": {},
     "output_type": "display_data"
    }
   ],
   "source": [
    "show_train_history(train_log, \"acc\", \"val_acc\", \"accuracy\")\n",
    "show_train_history(train_log, \"loss\", \"val_loss\", \"loss\")"
   ]
  },
  {
   "cell_type": "code",
   "execution_count": 898,
   "id": "8dd0d8092fe74a7c96281538738b07e2",
   "metadata": {
    "collapsed": false
   },
   "outputs": [
    {
     "name": "stdout",
     "output_type": "stream",
     "text": [
      "35/35 [==============================] - 0s 2ms/step\n"
     ]
    }
   ],
   "source": [
    "# validate your model using validation dataset\n",
    "# After prediction, you need to change your result and label from one-hot encoding to categorical encoding\n",
    "result = classifier.predict(val_data, workers=4, use_multiprocessing=True)\n",
    "truths = np.argmax(val_labels.to_numpy(), axis=-1).tolist()\n",
    "predictions = np.argmax(result, axis=-1).tolist()"
   ]
  },
  {
   "cell_type": "code",
   "execution_count": 899,
   "id": "ad32aac2",
   "metadata": {},
   "outputs": [
    {
     "name": "stdout",
     "output_type": "stream",
     "text": [
      "              precision    recall  f1-score   support\n",
      "\n",
      "           0       1.00      1.00      1.00       444\n",
      "           1       1.00      0.94      0.97       181\n",
      "           2       0.96      0.96      0.96       111\n",
      "           3       0.99      0.98      0.98       126\n",
      "           4       0.96      1.00      0.98       252\n",
      "\n",
      "    accuracy                           0.98      1114\n",
      "   macro avg       0.98      0.98      0.98      1114\n",
      "weighted avg       0.99      0.98      0.98      1114\n",
      "\n"
     ]
    }
   ],
   "source": [
    "# using sklearn classification_report function to show your validation result\n",
    "print(classification_report(truths, predictions))"
   ]
  },
  {
   "cell_type": "markdown",
   "id": "a238a4de",
   "metadata": {},
   "source": [
    "# Testing phase"
   ]
  },
  {
   "cell_type": "markdown",
   "id": "11a5ee11",
   "metadata": {},
   "source": [
    "### Load Data"
   ]
  },
  {
   "cell_type": "code",
   "execution_count": 900,
   "id": "60669151",
   "metadata": {},
   "outputs": [],
   "source": [
    "# load test.csv file as dataframe\n",
    "test_set: pd.DataFrame = pd.read_csv(\"data/test.csv\", encoding=\"utf-8\")"
   ]
  },
  {
   "cell_type": "markdown",
   "id": "7f156e31",
   "metadata": {},
   "source": [
    "### Data Preprocessing"
   ]
  },
  {
   "cell_type": "code",
   "execution_count": 901,
   "id": "3e0f7d67",
   "metadata": {},
   "outputs": [],
   "source": [
    "# Preprocessing is the same as training\n",
    "test_set.drop(\"created_time\", axis=1, inplace=True)\n",
    "row_buffer: dict = dict()\n",
    "for _, value in enumerate(zip(test_set[\"mac_hash\"].values.tolist(), test_set[\"sniffer_loc\"].values.tolist())):\n",
    "    if value[0] not in row_buffer.keys():\n",
    "        row_buffer[value[0]] = [0 for _ in range(14)]\n",
    "    row_buffer[value[0]][int(value[1]) - 1] = 1\n",
    "test_set: pd.DataFrame = pd.DataFrame(row_buffer).transpose()\n",
    "test_set.columns = [\"1\", \"2\", \"3\", \"4\", \"5\", \"6\", \"7\", \"8\", \"9\", \"10\", \"11\", \"12\", \"13\", \"14\"]\n",
    "test_set[\"mac_hash\"] = test_set.index\n",
    "test_set.reset_index(inplace=True)\n",
    "test_set.drop(\"index\", axis=1, inplace=True)"
   ]
  },
  {
   "cell_type": "markdown",
   "id": "74e8093d",
   "metadata": {},
   "source": [
    "### Predict the result using your model"
   ]
  },
  {
   "cell_type": "code",
   "execution_count": 902,
   "id": "a7cebac1",
   "metadata": {},
   "outputs": [],
   "source": [
    "# X_test: feature\n",
    "test_data = test_set.drop(\"mac_hash\", axis=1)"
   ]
  },
  {
   "cell_type": "code",
   "execution_count": 903,
   "id": "c026fc98",
   "metadata": {
    "scrolled": true
   },
   "outputs": [
    {
     "name": "stdout",
     "output_type": "stream",
     "text": [
      "44/44 [==============================] - 0s 1ms/step\n"
     ]
    }
   ],
   "source": [
    "# Prediction\n",
    "result = classifier.predict(test_data, workers=4, use_multiprocessing=True)\n",
    "predictions = np.argmax(result, axis=-1).tolist()"
   ]
  },
  {
   "cell_type": "code",
   "execution_count": 904,
   "id": "21737552",
   "metadata": {},
   "outputs": [],
   "source": [
    "# Generate submit.csv\n",
    "test_result = pd.DataFrame({\"mac_hash\": test_set[\"mac_hash\"].tolist(), \"label\": predictions})\n",
    "test_result.index.name = \"Index\"\n",
    "test_result.to_csv(\"submit.csv\", encoding=\"utf-8\")"
   ]
  },
  {
   "cell_type": "code",
   "execution_count": 904,
   "id": "72eea5119410473aa328ad9291626812",
   "metadata": {
    "collapsed": false
   },
   "outputs": [],
   "source": []
  }
 ],
 "metadata": {
  "kernelspec": {
   "display_name": "Python 3 (ipykernel)",
   "language": "python",
   "name": "python3"
  },
  "language_info": {
   "codemirror_mode": {
    "name": "ipython",
    "version": 3
   },
   "file_extension": ".py",
   "mimetype": "text/x-python",
   "name": "python",
   "nbconvert_exporter": "python",
   "pygments_lexer": "ipython3",
   "version": "3.9.12"
  }
 },
 "nbformat": 4,
 "nbformat_minor": 5
}
