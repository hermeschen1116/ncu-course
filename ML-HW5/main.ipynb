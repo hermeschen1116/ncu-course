{
 "cells": [
  {
   "cell_type": "code",
   "execution_count": 873,
   "metadata": {},
   "outputs": [],
   "source": [
    "# Visualization modules\n",
    "import matplotlib.pyplot as plt\n",
    "# Import data preprocessing modules\n",
    "import pandas as pd\n",
    "import seaborn as sns\n",
    "from keras.layers.core import Dense, Activation\n",
    "# Install Keras and Sklearn\n",
    "from keras.models import Sequential\n",
    "from sklearn import preprocessing\n",
    "from sklearn.ensemble import RandomForestClassifier\n",
    "from sklearn.svm import SVC"
   ]
  },
  {
   "cell_type": "code",
   "execution_count": 874,
   "outputs": [],
   "source": [
    "%matplotlib inline\n",
    "# Set seaborn as the default drawing library\n",
    "sns.set()"
   ],
   "metadata": {
    "collapsed": false
   }
  },
  {
   "cell_type": "markdown",
   "source": [
    "# Train Data"
   ],
   "metadata": {
    "collapsed": false
   }
  },
  {
   "cell_type": "code",
   "execution_count": 875,
   "outputs": [],
   "source": [
    "# Read the file\n",
    "train_set = pd.read_csv('input/titanic.csv', encoding='utf8')"
   ],
   "metadata": {
    "collapsed": false
   }
  },
  {
   "cell_type": "code",
   "execution_count": 876,
   "outputs": [],
   "source": [
    "# Name\n",
    "train_set['Title'] = train_set['Name'].str.extract(' ([A-Za-z]+)\\.', expand=False)\n",
    "\n",
    "\n",
    "def title_mapping(title: str):\n",
    "\ttitles = {'Mr': 0, 'Miss': 1, 'Mrs': 2}\n",
    "\tif title in titles.keys():\n",
    "\t\treturn titles[title]\n",
    "\treturn 3\n",
    "\n",
    "\n",
    "train_set['Title'] = train_set['Title'].map(title_mapping)\n",
    "train_set['Title'] = train_set['Title'].astype(int)\n",
    "train_set.drop('Name', axis=1, inplace=True)"
   ],
   "metadata": {
    "collapsed": false
   }
  },
  {
   "cell_type": "code",
   "execution_count": 877,
   "metadata": {},
   "outputs": [],
   "source": [
    "# Sex\n",
    "sex_mapping = {'male': 0, 'female': 1}\n",
    "train_set['Sex'] = train_set['Sex'].map(sex_mapping)\n",
    "train_set['Sex'] = train_set['Sex'].astype(int)"
   ]
  },
  {
   "cell_type": "code",
   "execution_count": 878,
   "metadata": {},
   "outputs": [],
   "source": [
    "# Age\n",
    "train_set['Age'].fillna(train_set.groupby('Title')['Age'].transform('median'), inplace=True)\n",
    "train_set.loc[train_set['Age'] <= 16, 'Age'] = 0\n",
    "train_set.loc[(train_set['Age'] > 16) & (train_set['Age'] <= 26), 'Age'] = 1\n",
    "train_set.loc[(train_set['Age'] > 26) & (train_set['Age'] <= 36), 'Age'] = 2\n",
    "train_set.loc[(train_set['Age'] > 36) & (train_set['Age'] <= 62), 'Age'] = 3\n",
    "train_set.loc[train_set['Age'] > 62, 'Age'] = 4\n",
    "train_set['Age'] = train_set['Age'].astype(int)"
   ]
  },
  {
   "cell_type": "code",
   "execution_count": 879,
   "metadata": {},
   "outputs": [],
   "source": [
    "# Embarked\n",
    "train_set['Embarked'] = train_set['Embarked'].fillna('S')\n",
    "embarked_mapping = {'S': 0, 'C': 1, 'Q': 2}\n",
    "train_set['Embarked'] = train_set['Embarked'].map(embarked_mapping)\n",
    "train_set['Embarked'] = train_set['Embarked'].astype(int)"
   ]
  },
  {
   "cell_type": "code",
   "execution_count": 880,
   "metadata": {},
   "outputs": [],
   "source": [
    "# Fare\n",
    "train_set['Fare'].fillna(train_set.groupby('Pclass')['Fare'].transform('median'), inplace=True)\n",
    "train_set.loc[train_set['Fare'] <= 17, 'Fare'] = 0\n",
    "train_set.loc[(train_set['Fare'] > 17) & (train_set['Fare'] <= 30), 'Fare'] = 1\n",
    "train_set.loc[(train_set['Fare'] > 30) & (train_set['Fare'] <= 100), 'Fare'] = 2\n",
    "train_set.loc[train_set['Fare'] > 100, 'Fare'] = 3\n",
    "train_set['Fare'] = train_set['Fare'].astype(int)"
   ]
  },
  {
   "cell_type": "code",
   "execution_count": 881,
   "metadata": {},
   "outputs": [],
   "source": [
    "# Cabin\n",
    "train_set['Cabin'] = train_set['Cabin'].str[:1]\n",
    "cabin_mapping = {'A': 0, 'B': 0.4, 'C': 0.8, 'D': 1.2, 'E': 1.6, 'F': 2, 'G': 2.4, 'T': 2.8}\n",
    "train_set['Cabin'] = train_set['Cabin'].map(cabin_mapping)\n",
    "train_set['Cabin'].fillna(train_set.groupby('Pclass')['Cabin'].transform('median'), inplace=True)\n",
    "train_set['Cabin'] = train_set['Cabin'].astype(float)"
   ]
  },
  {
   "cell_type": "code",
   "execution_count": 882,
   "outputs": [],
   "source": [
    "# Sibsp & Parch\n",
    "train_set['FamilySize'] = train_set['SibSp'] + train_set['Parch'] + 1\n",
    "family_mapping: dict = {1: 0, 2: 0.4, 3: 0.8, 4: 1.2, 5: 1.6, 6: 2, 7: 2.4, 8: 2.8, 9: 3.2, 10: 3.6, 11: 4}\n",
    "train_set['FamilySize'] = train_set['FamilySize'].map(family_mapping)\n",
    "train_set['FamilySize'] = train_set['FamilySize'].astype(float)"
   ],
   "metadata": {
    "collapsed": false
   }
  },
  {
   "cell_type": "code",
   "execution_count": 883,
   "metadata": {},
   "outputs": [],
   "source": [
    "# Delete Sibsp, Parch, Ticket\n",
    "feature_drop = ['Ticket', 'SibSp', 'Parch']\n",
    "train_set = train_set.drop(feature_drop, axis=1)"
   ]
  },
  {
   "cell_type": "code",
   "execution_count": 884,
   "metadata": {},
   "outputs": [],
   "source": [
    "# Set Target Variables and Explanatory Variables\n",
    "train_set_data = train_set.drop('Survived', axis=1)\n",
    "train_set_label = train_set[['Survived']]"
   ]
  },
  {
   "cell_type": "code",
   "execution_count": 885,
   "outputs": [],
   "source": [
    "# Feature Normalization\n",
    "minmax_scale = preprocessing.MinMaxScaler(feature_range=(0, 1))\n",
    "train_set_data = minmax_scale.fit_transform(train_set_data)"
   ],
   "metadata": {
    "collapsed": false
   }
  },
  {
   "cell_type": "markdown",
   "source": [
    "# Test Data"
   ],
   "metadata": {
    "collapsed": false
   }
  },
  {
   "cell_type": "code",
   "execution_count": 886,
   "outputs": [],
   "source": [
    "test_set = pd.read_csv('input/test.csv', encoding='utf8')"
   ],
   "metadata": {
    "collapsed": false
   }
  },
  {
   "cell_type": "code",
   "execution_count": 887,
   "outputs": [],
   "source": [
    "# Name\n",
    "test_set['Title'] = test_set['Name'].str.extract(' ([A-Za-z]+)\\.', expand=False)\n",
    "\n",
    "\n",
    "def title_mapping(title: str):\n",
    "\ttitles = {'Mr': 0, 'Miss': 1, 'Mrs': 2}\n",
    "\tif title in titles.keys():\n",
    "\t\treturn titles[title]\n",
    "\treturn 3\n",
    "\n",
    "\n",
    "test_set['Title'] = test_set['Title'].map(title_mapping)\n",
    "train_set['Title'] = train_set['Title'].astype(int)\n",
    "test_set.drop('Name', axis=1, inplace=True)"
   ],
   "metadata": {
    "collapsed": false
   }
  },
  {
   "cell_type": "code",
   "execution_count": 888,
   "outputs": [],
   "source": [
    "# Sex\n",
    "sex_mapping = {'male': 0, 'female': 1}\n",
    "test_set['Sex'] = test_set['Sex'].map(sex_mapping)\n",
    "test_set['Sex'] = test_set['Sex'].astype(int)"
   ],
   "metadata": {
    "collapsed": false
   }
  },
  {
   "cell_type": "code",
   "execution_count": 889,
   "outputs": [],
   "source": [
    "# Age\n",
    "test_set['Age'].fillna(test_set.groupby('Title')['Age'].transform('median'), inplace=True)\n",
    "test_set.loc[test_set['Age'] <= 16, 'Age'] = 0\n",
    "test_set.loc[(test_set['Age'] > 16) & (test_set['Age'] <= 26), 'Age'] = 1\n",
    "test_set.loc[(test_set['Age'] > 26) & (test_set['Age'] <= 36), 'Age'] = 2\n",
    "test_set.loc[(test_set['Age'] > 36) & (test_set['Age'] <= 62), 'Age'] = 3\n",
    "test_set.loc[test_set['Age'] > 62, 'Age'] = 4\n",
    "test_set['Age'] = test_set['Age'].astype(int)"
   ],
   "metadata": {
    "collapsed": false
   }
  },
  {
   "cell_type": "code",
   "execution_count": 890,
   "outputs": [],
   "source": [
    "# Embarked (登船地點)\n",
    "test_set['Embarked'] = test_set['Embarked'].fillna('S')\n",
    "embarked_mapping = {'S': 0, 'C': 1, 'Q': 2}\n",
    "test_set['Embarked'] = test_set['Embarked'].map(embarked_mapping)\n",
    "test_set['Embarked'] = test_set['Embarked'].astype(int)"
   ],
   "metadata": {
    "collapsed": false
   }
  },
  {
   "cell_type": "code",
   "execution_count": 891,
   "outputs": [],
   "source": [
    "# Fare(票價)\n",
    "test_set['Fare'].fillna(test_set.groupby('Pclass')['Fare'].transform('median'), inplace=True)\n",
    "test_set.loc[test_set['Fare'] <= 17, 'Fare'] = 0\n",
    "test_set.loc[(test_set['Fare'] > 17) & (test_set['Fare'] <= 30), 'Fare'] = 1\n",
    "test_set.loc[(test_set['Fare'] > 30) & (test_set['Fare'] <= 100), 'Fare'] = 2\n",
    "test_set.loc[test_set['Fare'] > 100, 'Fare'] = 3\n",
    "test_set['Fare'] = test_set['Fare'].astype(int)"
   ],
   "metadata": {
    "collapsed": false
   }
  },
  {
   "cell_type": "code",
   "execution_count": 892,
   "outputs": [],
   "source": [
    "# Cabin\n",
    "test_set['Cabin'] = test_set['Cabin'].str[:1]\n",
    "cabin_mapping = {'A': 0, 'B': 0.4, 'C': 0.8, 'D': 1.2, 'E': 1.6, 'F': 2, 'G': 2.4, 'T': 2.8}\n",
    "test_set['Cabin'] = test_set['Cabin'].map(cabin_mapping)\n",
    "test_set['Cabin'].fillna(test_set.groupby('Pclass')['Cabin'].transform('median'), inplace=True)\n",
    "test_set['Cabin'] = test_set['Cabin'].astype(float)"
   ],
   "metadata": {
    "collapsed": false
   }
  },
  {
   "cell_type": "code",
   "execution_count": 893,
   "outputs": [],
   "source": [
    "# FamilySize\n",
    "test_set['FamilySize'] = test_set['SibSp'] + test_set['Parch'] + 1\n",
    "family_mapping: dict = {1: 0, 2: 0.4, 3: 0.8, 4: 1.2, 5: 1.6, 6: 2, 7: 2.4, 8: 2.8, 9: 3.2, 10: 3.6, 11: 4}\n",
    "test_set['FamilySize'] = test_set['FamilySize'].map(family_mapping)\n",
    "test_set['FamilySize'] = test_set['FamilySize'].astype(float)"
   ],
   "metadata": {
    "collapsed": false
   }
  },
  {
   "cell_type": "code",
   "execution_count": 894,
   "outputs": [],
   "source": [
    "# Data Cleaning (資料清洗)\n",
    "feature_drop = ['Ticket', 'SibSp', 'Parch']\n",
    "test_set = test_set.drop(feature_drop, axis=1)"
   ],
   "metadata": {
    "collapsed": false
   }
  },
  {
   "cell_type": "code",
   "execution_count": 895,
   "outputs": [],
   "source": [
    "# Feature Normalization\n",
    "minmax_scale = preprocessing.MinMaxScaler(feature_range=(0, 1))\n",
    "test_set = minmax_scale.fit_transform(test_set)"
   ],
   "metadata": {
    "collapsed": false
   }
  },
  {
   "cell_type": "markdown",
   "source": [
    "# Model"
   ],
   "metadata": {
    "collapsed": false
   }
  },
  {
   "cell_type": "markdown",
   "source": [
    "# Build the model-DNN"
   ],
   "metadata": {
    "collapsed": false
   }
  },
  {
   "cell_type": "code",
   "execution_count": 896,
   "outputs": [],
   "source": [
    "# Create Model Function\n",
    "def DNN():\n",
    "\tmodel = Sequential()\n",
    "\tmodel.add(Dense(input_dim=9, units=40))\n",
    "\tmodel.add(Activation('relu'))\n",
    "\tmodel.add(Dense(units=100))\n",
    "\tmodel.add(Activation('relu'))\n",
    "\tmodel.add(Dense(units=10))\n",
    "\tmodel.add(Activation('relu'))\n",
    "\tmodel.add(Dense(units=1))\n",
    "\tmodel.add(Activation('sigmoid'))\n",
    "\tmodel.summary()\n",
    "\n",
    "\treturn model"
   ],
   "metadata": {
    "collapsed": false
   }
  },
  {
   "cell_type": "code",
   "execution_count": 897,
   "outputs": [],
   "source": [
    "# Create a Drawing Function\n",
    "def show_train_history(train_history, train, validation, label):\n",
    "\tplt.plot(train_history.history[train])\n",
    "\tplt.plot(train_history.history[validation])\n",
    "\tplt.title('Train History')\n",
    "\tplt.ylabel(label)\n",
    "\tplt.xlabel('Epoch')\n",
    "\tplt.legend(['train', 'validation'], loc='upper left')\n",
    "\tplt.show()"
   ],
   "metadata": {
    "collapsed": false
   }
  },
  {
   "cell_type": "code",
   "execution_count": 898,
   "outputs": [
    {
     "name": "stdout",
     "output_type": "stream",
     "text": [
      "Model: \"sequential_24\"\n",
      "_________________________________________________________________\n",
      " Layer (type)                Output Shape              Param #   \n",
      "=================================================================\n",
      " dense_96 (Dense)            (None, 40)                400       \n",
      "                                                                 \n",
      " activation_96 (Activation)  (None, 40)                0         \n",
      "                                                                 \n",
      " dense_97 (Dense)            (None, 100)               4100      \n",
      "                                                                 \n",
      " activation_97 (Activation)  (None, 100)               0         \n",
      "                                                                 \n",
      " dense_98 (Dense)            (None, 10)                1010      \n",
      "                                                                 \n",
      " activation_98 (Activation)  (None, 10)                0         \n",
      "                                                                 \n",
      " dense_99 (Dense)            (None, 1)                 11        \n",
      "                                                                 \n",
      " activation_99 (Activation)  (None, 1)                 0         \n",
      "                                                                 \n",
      "=================================================================\n",
      "Total params: 5,521\n",
      "Trainable params: 5,521\n",
      "Non-trainable params: 0\n",
      "_________________________________________________________________\n",
      "Epoch 1/20\n",
      "24/24 [==============================] - 3s 13ms/step - loss: 0.6588 - acc: 0.6573 - val_loss: 0.5908 - val_acc: 0.7933\n",
      "Epoch 2/20\n",
      "24/24 [==============================] - 0s 4ms/step - loss: 0.5617 - acc: 0.7851 - val_loss: 0.4720 - val_acc: 0.8101\n",
      "Epoch 3/20\n",
      "24/24 [==============================] - 0s 4ms/step - loss: 0.4800 - acc: 0.7949 - val_loss: 0.4195 - val_acc: 0.7933\n",
      "Epoch 4/20\n",
      "24/24 [==============================] - 0s 4ms/step - loss: 0.4646 - acc: 0.7921 - val_loss: 0.3982 - val_acc: 0.8324\n",
      "Epoch 5/20\n",
      "24/24 [==============================] - 0s 3ms/step - loss: 0.4501 - acc: 0.7978 - val_loss: 0.3913 - val_acc: 0.8324\n",
      "Epoch 6/20\n",
      "24/24 [==============================] - 0s 4ms/step - loss: 0.4445 - acc: 0.7963 - val_loss: 0.3911 - val_acc: 0.8324\n",
      "Epoch 7/20\n",
      "24/24 [==============================] - 0s 4ms/step - loss: 0.4396 - acc: 0.8090 - val_loss: 0.3813 - val_acc: 0.8436\n",
      "Epoch 8/20\n",
      "24/24 [==============================] - 0s 3ms/step - loss: 0.4325 - acc: 0.8216 - val_loss: 0.3997 - val_acc: 0.8212\n",
      "Epoch 9/20\n",
      "24/24 [==============================] - 0s 4ms/step - loss: 0.4317 - acc: 0.8104 - val_loss: 0.3775 - val_acc: 0.8547\n",
      "Epoch 10/20\n",
      "24/24 [==============================] - 0s 3ms/step - loss: 0.4270 - acc: 0.8062 - val_loss: 0.3755 - val_acc: 0.8324\n",
      "Epoch 11/20\n",
      "24/24 [==============================] - 0s 3ms/step - loss: 0.4250 - acc: 0.8160 - val_loss: 0.3760 - val_acc: 0.8436\n",
      "Epoch 12/20\n",
      "24/24 [==============================] - 0s 3ms/step - loss: 0.4208 - acc: 0.8244 - val_loss: 0.3858 - val_acc: 0.8324\n",
      "Epoch 13/20\n",
      "24/24 [==============================] - 0s 3ms/step - loss: 0.4163 - acc: 0.8258 - val_loss: 0.3693 - val_acc: 0.8436\n",
      "Epoch 14/20\n",
      "24/24 [==============================] - 0s 3ms/step - loss: 0.4130 - acc: 0.8244 - val_loss: 0.3670 - val_acc: 0.8380\n",
      "Epoch 15/20\n",
      "24/24 [==============================] - 0s 3ms/step - loss: 0.4134 - acc: 0.8216 - val_loss: 0.3876 - val_acc: 0.8101\n",
      "Epoch 16/20\n",
      "24/24 [==============================] - 0s 3ms/step - loss: 0.4112 - acc: 0.8230 - val_loss: 0.3646 - val_acc: 0.8380\n",
      "Epoch 17/20\n",
      "24/24 [==============================] - 0s 3ms/step - loss: 0.4151 - acc: 0.8160 - val_loss: 0.4045 - val_acc: 0.7821\n",
      "Epoch 18/20\n",
      "24/24 [==============================] - 0s 4ms/step - loss: 0.4101 - acc: 0.8244 - val_loss: 0.3702 - val_acc: 0.8324\n",
      "Epoch 19/20\n",
      "24/24 [==============================] - 0s 4ms/step - loss: 0.4087 - acc: 0.8315 - val_loss: 0.3607 - val_acc: 0.8380\n",
      "Epoch 20/20\n",
      "24/24 [==============================] - 0s 4ms/step - loss: 0.4150 - acc: 0.8230 - val_loss: 0.3650 - val_acc: 0.8268\n",
      "28/28 [==============================] - 0s 1ms/step - loss: 0.3941 - acc: 0.8283\n",
      "\n",
      "Train Loss: 0.39406517148017883\n",
      "\n",
      "Train Acc: 0.8282828330993652\n"
     ]
    }
   ],
   "source": [
    "model = DNN()\n",
    "# Train Model\n",
    "model.compile(loss='binary_crossentropy', optimizer='adam', metrics=['acc'])\n",
    "train_history = model.fit(train_set_data, train_set_label, validation_split=0.2, batch_size=30, epochs=20)\n",
    "# Evaluate training result\n",
    "score = model.evaluate(x=train_set_data, y=train_set_label)\n",
    "print('\\nTrain Loss:', score[0])\n",
    "print('\\nTrain Acc:', score[1])"
   ],
   "metadata": {
    "collapsed": false
   }
  },
  {
   "cell_type": "code",
   "execution_count": 899,
   "outputs": [
    {
     "data": {
      "text/plain": "<Figure size 640x480 with 1 Axes>",
      "image/png": "[encoded data removed]"
     },
     "metadata": {},
     "output_type": "display_data"
    },
    {
     "data": {
      "text/plain": "<Figure size 640x480 with 1 Axes>",
      "image/png": "[encoded data removed]"
     },
     "metadata": {},
     "output_type": "display_data"
    }
   ],
   "source": [
    "#Show Training Process\n",
    "show_train_history(train_history, 'acc', 'val_acc', 'accuracy')\n",
    "show_train_history(train_history, 'loss', 'val_loss', 'loss')"
   ],
   "metadata": {
    "collapsed": false
   }
  },
  {
   "cell_type": "code",
   "execution_count": 900,
   "outputs": [
    {
     "name": "stdout",
     "output_type": "stream",
     "text": [
      "weights = [[ 2.16649950e-01 -2.19843864e-01  1.56829730e-01  3.58759820e-01\n",
      "   1.93818882e-01  2.13612482e-01  4.63877976e-01  2.60051209e-02\n",
      "   2.98845500e-01  9.72504020e-02  9.99069512e-02  1.03277683e-01\n",
      "   9.80858132e-02  5.22173755e-02 -1.62386671e-01  8.76262598e-03\n",
      "  -1.88905984e-01 -1.01324461e-01  4.44196671e-01 -2.21303897e-03\n",
      "  -2.93439955e-01  5.65755926e-02  3.34419161e-01  3.66070382e-02\n",
      "  -2.36587021e-02 -2.22538769e-01  2.66337186e-01 -6.60712942e-02\n",
      "   1.90506399e-01  2.17358023e-01  1.10380687e-01 -3.51059526e-01\n",
      "   3.39783043e-01 -2.47742563e-01  4.20830101e-01 -2.89889336e-01\n",
      "  -7.75633529e-02 -1.38161466e-01  2.39424661e-01 -8.05388018e-03]\n",
      " [ 1.01611400e-02  7.81771839e-02  8.65108818e-02  1.32943615e-01\n",
      "   2.68319249e-01 -2.04737447e-02  8.54952037e-02 -4.94305901e-02\n",
      "   2.94711858e-01  2.49011874e-01 -2.62919337e-01  6.03979863e-02\n",
      "   3.04940104e-01  2.06457764e-01 -2.69372612e-01 -3.33134413e-01\n",
      "   1.95953250e-01 -2.15158999e-01 -2.47235134e-01 -1.07797347e-02\n",
      "  -2.71730930e-01  1.51532935e-03 -2.50245184e-01  2.03142762e-01\n",
      "  -1.10674255e-01 -2.37509310e-01 -1.79505557e-01  1.59655243e-01\n",
      "  -2.59855241e-01  1.28354719e-02  1.55699790e-01  2.87413538e-01\n",
      "   7.72667453e-02 -2.69889712e-01 -3.93874377e-01 -1.19438767e-02\n",
      "   2.79407561e-01 -9.91357267e-02  1.88057467e-01 -5.64547777e-02]\n",
      " [ 7.44069517e-02  3.37490618e-01 -4.69370652e-03  2.11603850e-01\n",
      "  -1.72417194e-01 -3.01266313e-01  2.43679255e-01  8.69395398e-03\n",
      "  -2.59974271e-01 -1.11526333e-01  2.03896418e-01  3.51199359e-01\n",
      "   1.95682809e-01 -9.30352733e-02  4.13406521e-01 -1.70808494e-01\n",
      "  -3.58855426e-02  3.69722635e-01 -3.88629660e-02  1.48107529e-01\n",
      "   3.79080445e-01  1.97603077e-01  2.53349006e-01  1.28358200e-01\n",
      "   1.45492479e-01  4.57027555e-01  2.68713862e-01  3.34206849e-01\n",
      "  -5.14996469e-01  2.51658022e-01  4.07062203e-01  3.10311347e-01\n",
      "   2.74662316e-01  1.56518742e-01  1.54030010e-01 -1.61239296e-01\n",
      "   2.65960217e-01 -1.54545024e-01  1.25311270e-01 -2.58967668e-01]\n",
      " [-7.39047602e-02 -3.00256729e-01 -3.15058887e-01 -2.19309643e-01\n",
      "   1.75861388e-01  4.12478507e-01 -1.74586162e-01  8.43237191e-02\n",
      "  -9.48168039e-02  2.18094543e-01 -2.34935671e-01 -2.63001829e-01\n",
      "  -1.25283390e-01  3.08317889e-04  3.29270996e-02 -1.15448810e-01\n",
      "   1.45864397e-01  3.09879750e-01 -7.55229890e-02  2.80128598e-01\n",
      "  -1.43548712e-01  1.64786592e-01 -1.84776142e-01  1.26634017e-01\n",
      "  -3.23157459e-01 -2.19409660e-01  1.86168235e-02  3.00535977e-01\n",
      "   1.40984938e-01 -2.09895313e-01 -3.30830403e-02  1.82699859e-02\n",
      "   2.83517331e-01  2.32904360e-01 -2.78820813e-01 -2.43246555e-03\n",
      "   4.57372330e-02 -2.55021453e-01 -2.88073778e-01 -4.50422138e-01]\n",
      " [-1.77602187e-01 -2.83991247e-01  2.84827262e-01  1.63173318e-01\n",
      "  -3.06695014e-01  1.61840826e-01 -2.12726280e-01  8.33300501e-02\n",
      "  -1.91621650e-02  1.94478557e-01  2.64590859e-01  2.05193698e-01\n",
      "   2.48284206e-01 -6.43249303e-02  4.51847725e-02  1.38729230e-01\n",
      "  -1.91177696e-01  2.71834254e-01  3.07592452e-01  1.07898280e-01\n",
      "   1.80703580e-01  3.48001808e-01 -7.26054311e-02  3.07668447e-01\n",
      "   5.49737625e-02  1.64961442e-01 -3.29590142e-01  1.81093901e-01\n",
      "   2.02025950e-01  3.07742506e-01  1.10692218e-01  1.56410679e-01\n",
      "  -2.57813483e-01  7.86389560e-02  3.56215388e-01 -2.78194398e-01\n",
      "  -7.88533911e-02  1.53924137e-01 -5.32151163e-02  1.09934255e-01]\n",
      " [ 1.05327301e-01  7.50540495e-02 -1.60668731e-01 -1.36970267e-01\n",
      "  -2.95937717e-01 -2.00897813e-01  7.09951967e-02 -1.95412919e-01\n",
      "   2.18439117e-01  1.54602394e-01  3.26888680e-01 -1.04222380e-01\n",
      "   7.49109015e-02  2.08067715e-01 -7.02088326e-02 -2.60499805e-01\n",
      "   3.04716974e-01 -3.01463723e-01 -1.72022894e-01  1.29247690e-02\n",
      "   3.37518275e-01 -5.31049259e-03 -1.22420839e-03 -6.90808818e-02\n",
      "   1.98113509e-02 -6.41807541e-02 -3.09866011e-01  2.82547444e-01\n",
      "   2.67832935e-01 -1.24096364e-01 -1.57865420e-01 -2.21951097e-01\n",
      "   4.88551632e-02 -9.47299004e-02 -2.40455791e-01 -1.25243291e-01\n",
      "   2.22170129e-01 -2.80778289e-01 -6.02559485e-02  1.70137495e-01]\n",
      " [-1.02017812e-01 -1.84350252e-01  2.50287503e-01 -1.89505115e-01\n",
      "  -3.69049907e-01  1.13902904e-01  1.26986012e-01 -4.03764658e-02\n",
      "  -1.62607864e-01  2.62947679e-01  1.53979257e-01  2.01150551e-01\n",
      "  -2.69436568e-01  6.07914804e-03  3.04707885e-01 -7.14821219e-02\n",
      "   4.03270908e-02 -8.46790671e-02  4.26917784e-02  8.17805678e-02\n",
      "  -1.08288094e-01 -6.36192933e-02  1.19218342e-01  1.02383167e-01\n",
      "   2.15723757e-02  1.99011400e-01 -2.29567021e-01  1.46613657e-01\n",
      "   2.46184126e-01  7.27714598e-02 -1.17021918e-01 -4.26251799e-01\n",
      "   1.14656627e-01  3.47071379e-01  2.08105803e-01 -3.06152076e-01\n",
      "   6.81500956e-02 -8.19844604e-02 -7.59127289e-02 -1.58679977e-01]\n",
      " [ 1.33302379e-02  3.16480130e-01 -9.52093005e-02  8.86550918e-02\n",
      "   6.30264729e-02 -2.94868678e-01  3.49170536e-01  2.88616180e-01\n",
      "   3.73499058e-02  1.51739419e-01  2.32467324e-01  9.41203609e-02\n",
      "  -4.28962231e-01 -5.61330132e-02 -2.00351551e-01  1.19686246e-01\n",
      "  -9.15964469e-02  2.95788527e-01  1.88450124e-02  2.71844447e-01\n",
      "   8.54093209e-03 -4.46066037e-02  3.90732974e-01  2.19128877e-01\n",
      "   3.52296978e-01 -1.00259952e-01  6.16451390e-02  5.13406321e-02\n",
      "  -7.19928965e-02  1.48187011e-01  7.49038607e-02 -6.99004754e-02\n",
      "  -8.07523131e-02  3.15923303e-01 -1.57210052e-01 -6.41303658e-02\n",
      "   3.79457116e-01 -3.05922329e-01 -1.55442655e-01  2.09464654e-01]\n",
      " [ 1.55314222e-01 -2.73342133e-01  2.61195868e-01  1.05907721e-02\n",
      "  -2.78471678e-01 -9.40365493e-02  1.87602878e-01 -8.35904703e-02\n",
      "   4.21350896e-01 -2.06549287e-01 -1.38487235e-01 -2.40338027e-01\n",
      "   4.04583424e-01  4.47244704e-01  1.74943525e-02  1.44138187e-01\n",
      "   3.68716985e-01  5.44895343e-02 -1.13898799e-01  2.87002355e-01\n",
      "  -3.76733020e-02  1.91129863e-01 -1.16794899e-01 -3.03865820e-01\n",
      "   5.35019711e-02 -2.28700027e-01  6.35285154e-02 -1.18960351e-01\n",
      "  -2.19746813e-01 -1.86963871e-01 -3.79262537e-01  9.59541723e-02\n",
      "   3.04495931e-01 -8.54488537e-02  2.21448094e-01  8.82409811e-02\n",
      "  -2.11394927e-03 -2.02841967e-01  4.05860215e-01 -2.85538495e-01]], \n",
      "\n",
      "biases = [-0.04359556  0.03248048  0.00103892  0.07630914  0.03912759  0.07296561\n",
      "  0.06157643  0.06520759 -0.00559493  0.02304976 -0.0098537  -0.0042673\n",
      " -0.0012978   0.04841658  0.03748851 -0.01975469  0.02539504  0.01724306\n",
      "  0.03799624  0.00314164  0.03111709 -0.01226596  0.06176494 -0.04029717\n",
      " -0.00340523  0.0529855  -0.00129357  0.02119527  0.05563725  0.04891319\n",
      "  0.07437838 -0.02897486 -0.03750894  0.0687479   0.0736774   0.\n",
      " -0.01046838  0.         -0.03198911  0.0280386 ]\n"
     ]
    }
   ],
   "source": [
    "W, b = model.layers[0].get_weights()\n",
    "print('weights = {}, \\n\\nbiases = {}'.format(W, b))"
   ],
   "metadata": {
    "collapsed": false
   }
  },
  {
   "cell_type": "code",
   "execution_count": 901,
   "outputs": [
    {
     "name": "stdout",
     "output_type": "stream",
     "text": [
      "14/14 [==============================] - 0s 2ms/step\n"
     ]
    }
   ],
   "source": [
    "predictions = model.predict(test_set)\n",
    "predictions = predictions.flatten()\n",
    "testdata_write = pd.read_csv('input/test.csv', encoding='utf8')\n",
    "submission = pd.DataFrame({\n",
    "\t'PassengerId': testdata_write['PassengerId'],\n",
    "\t'Survived': predictions\n",
    "})\n",
    "submission['Survived'] = submission['Survived'].astype(int)\n",
    "submission.to_csv('result/submission.csv', index=False, encoding='utf8')"
   ],
   "metadata": {
    "collapsed": false
   }
  },
  {
   "cell_type": "code",
   "execution_count": 902,
   "outputs": [
    {
     "name": "stdout",
     "output_type": "stream",
     "text": [
      "100%|████████████████████████████████████████| 2.77k/2.77k [00:03<00:00, 815B/s]\r\n",
      "400 - Bad Request\r\n"
     ]
    }
   ],
   "source": [
    "!kaggle competitions submit -f 'result/submission.csv' -m 'DNN model' titanic"
   ],
   "metadata": {
    "collapsed": false
   }
  },
  {
   "cell_type": "markdown",
   "source": [
    "# SVM"
   ],
   "metadata": {
    "collapsed": false
   }
  },
  {
   "cell_type": "code",
   "execution_count": 903,
   "outputs": [
    {
     "data": {
      "text/plain": "SVC()",
      "text/html": "<style>#sk-container-id-9 {color: black;background-color: white;}#sk-container-id-9 pre{padding: 0;}#sk-container-id-9 div.sk-toggleable {background-color: white;}#sk-container-id-9 label.sk-toggleable__label {cursor: pointer;display: block;width: 100%;margin-bottom: 0;padding: 0.3em;box-sizing: border-box;text-align: center;}#sk-container-id-9 label.sk-toggleable__label-arrow:before {content: \"▸\";float: left;margin-right: 0.25em;color: #696969;}#sk-container-id-9 label.sk-toggleable__label-arrow:hover:before {color: black;}#sk-container-id-9 div.sk-estimator:hover label.sk-toggleable__label-arrow:before {color: black;}#sk-container-id-9 div.sk-toggleable__content {max-height: 0;max-width: 0;overflow: hidden;text-align: left;background-color: #f0f8ff;}#sk-container-id-9 div.sk-toggleable__content pre {margin: 0.2em;color: black;border-radius: 0.25em;background-color: #f0f8ff;}#sk-container-id-9 input.sk-toggleable__control:checked~div.sk-toggleable__content {max-height: 200px;max-width: 100%;overflow: auto;}#sk-container-id-9 input.sk-toggleable__control:checked~label.sk-toggleable__label-arrow:before {content: \"▾\";}#sk-container-id-9 div.sk-estimator input.sk-toggleable__control:checked~label.sk-toggleable__label {background-color: #d4ebff;}#sk-container-id-9 div.sk-label input.sk-toggleable__control:checked~label.sk-toggleable__label {background-color: #d4ebff;}#sk-container-id-9 input.sk-hidden--visually {border: 0;clip: rect(1px 1px 1px 1px);clip: rect(1px, 1px, 1px, 1px);height: 1px;margin: -1px;overflow: hidden;padding: 0;position: absolute;width: 1px;}#sk-container-id-9 div.sk-estimator {font-family: monospace;background-color: #f0f8ff;border: 1px dotted black;border-radius: 0.25em;box-sizing: border-box;margin-bottom: 0.5em;}#sk-container-id-9 div.sk-estimator:hover {background-color: #d4ebff;}#sk-container-id-9 div.sk-parallel-item::after {content: \"\";width: 100%;border-bottom: 1px solid gray;flex-grow: 1;}#sk-container-id-9 div.sk-label:hover label.sk-toggleable__label {background-color: #d4ebff;}#sk-container-id-9 div.sk-serial::before {content: \"\";position: absolute;border-left: 1px solid gray;box-sizing: border-box;top: 0;bottom: 0;left: 50%;z-index: 0;}#sk-container-id-9 div.sk-serial {display: flex;flex-direction: column;align-items: center;background-color: white;padding-right: 0.2em;padding-left: 0.2em;position: relative;}#sk-container-id-9 div.sk-item {position: relative;z-index: 1;}#sk-container-id-9 div.sk-parallel {display: flex;align-items: stretch;justify-content: center;background-color: white;position: relative;}#sk-container-id-9 div.sk-item::before, #sk-container-id-9 div.sk-parallel-item::before {content: \"\";position: absolute;border-left: 1px solid gray;box-sizing: border-box;top: 0;bottom: 0;left: 50%;z-index: -1;}#sk-container-id-9 div.sk-parallel-item {display: flex;flex-direction: column;z-index: 1;position: relative;background-color: white;}#sk-container-id-9 div.sk-parallel-item:first-child::after {align-self: flex-end;width: 50%;}#sk-container-id-9 div.sk-parallel-item:last-child::after {align-self: flex-start;width: 50%;}#sk-container-id-9 div.sk-parallel-item:only-child::after {width: 0;}#sk-container-id-9 div.sk-dashed-wrapped {border: 1px dashed gray;margin: 0 0.4em 0.5em 0.4em;box-sizing: border-box;padding-bottom: 0.4em;background-color: white;}#sk-container-id-9 div.sk-label label {font-family: monospace;font-weight: bold;display: inline-block;line-height: 1.2em;}#sk-container-id-9 div.sk-label-container {text-align: center;}#sk-container-id-9 div.sk-container {/* jupyter's `normalize.less` sets `[hidden] { display: none; }` but bootstrap.min.css set `[hidden] { display: none !important; }` so we also need the `!important` here to be able to override the default hidden behavior on the sphinx rendered scikit-learn.org. See: https://github.com/scikit-learn/scikit-learn/issues/21755 */display: inline-block !important;position: relative;}#sk-container-id-9 div.sk-text-repr-fallback {display: none;}</style><div id=\"sk-container-id-9\" class=\"sk-top-container\"><div class=\"sk-text-repr-fallback\"><pre>SVC()</pre><b>In a Jupyter environment, please rerun this cell to show the HTML representation or trust the notebook. <br />On GitHub, the HTML representation is unable to render, please try loading this page with nbviewer.org.</b></div><div class=\"sk-container\" hidden><div class=\"sk-item\"><div class=\"sk-estimator sk-toggleable\"><input class=\"sk-toggleable__control sk-hidden--visually\" id=\"sk-estimator-id-9\" type=\"checkbox\" checked><label for=\"sk-estimator-id-9\" class=\"sk-toggleable__label sk-toggleable__label-arrow\">SVC</label><div class=\"sk-toggleable__content\"><pre>SVC()</pre></div></div></div></div></div>"
     },
     "execution_count": 903,
     "metadata": {},
     "output_type": "execute_result"
    }
   ],
   "source": [
    "model = SVC()\n",
    "model.fit(train_set_data, train_set['Survived'])"
   ],
   "metadata": {
    "collapsed": false
   }
  },
  {
   "cell_type": "code",
   "execution_count": 904,
   "outputs": [],
   "source": [
    "predictions = model.predict(test_set)\n",
    "predictions = predictions.flatten()\n",
    "testdata_write = pd.read_csv('input/test.csv', encoding='utf8')\n",
    "submission = pd.DataFrame({\n",
    "\t'PassengerId': testdata_write['PassengerId'],\n",
    "\t'Survived': predictions\n",
    "})\n",
    "submission['Survived'] = submission['Survived'].astype(int)\n",
    "submission.to_csv('result/submission.csv', index=False, encoding='utf8')"
   ],
   "metadata": {
    "collapsed": false
   }
  },
  {
   "cell_type": "code",
   "execution_count": 905,
   "outputs": [
    {
     "name": "stdout",
     "output_type": "stream",
     "text": [
      "100%|████████████████████████████████████████| 2.77k/2.77k [00:03<00:00, 881B/s]\r\n",
      "400 - Bad Request\r\n"
     ]
    }
   ],
   "source": [
    "!kaggle competitions submit -f 'result/submission.csv' -m 'SVM model' titanic"
   ],
   "metadata": {
    "collapsed": false
   }
  },
  {
   "cell_type": "markdown",
   "source": [
    "# Random Forest"
   ],
   "metadata": {
    "collapsed": false
   }
  },
  {
   "cell_type": "code",
   "execution_count": 906,
   "outputs": [
    {
     "data": {
      "text/plain": "RandomForestClassifier(n_estimators=700)",
      "text/html": "<style>#sk-container-id-10 {color: black;background-color: white;}#sk-container-id-10 pre{padding: 0;}#sk-container-id-10 div.sk-toggleable {background-color: white;}#sk-container-id-10 label.sk-toggleable__label {cursor: pointer;display: block;width: 100%;margin-bottom: 0;padding: 0.3em;box-sizing: border-box;text-align: center;}#sk-container-id-10 label.sk-toggleable__label-arrow:before {content: \"▸\";float: left;margin-right: 0.25em;color: #696969;}#sk-container-id-10 label.sk-toggleable__label-arrow:hover:before {color: black;}#sk-container-id-10 div.sk-estimator:hover label.sk-toggleable__label-arrow:before {color: black;}#sk-container-id-10 div.sk-toggleable__content {max-height: 0;max-width: 0;overflow: hidden;text-align: left;background-color: #f0f8ff;}#sk-container-id-10 div.sk-toggleable__content pre {margin: 0.2em;color: black;border-radius: 0.25em;background-color: #f0f8ff;}#sk-container-id-10 input.sk-toggleable__control:checked~div.sk-toggleable__content {max-height: 200px;max-width: 100%;overflow: auto;}#sk-container-id-10 input.sk-toggleable__control:checked~label.sk-toggleable__label-arrow:before {content: \"▾\";}#sk-container-id-10 div.sk-estimator input.sk-toggleable__control:checked~label.sk-toggleable__label {background-color: #d4ebff;}#sk-container-id-10 div.sk-label input.sk-toggleable__control:checked~label.sk-toggleable__label {background-color: #d4ebff;}#sk-container-id-10 input.sk-hidden--visually {border: 0;clip: rect(1px 1px 1px 1px);clip: rect(1px, 1px, 1px, 1px);height: 1px;margin: -1px;overflow: hidden;padding: 0;position: absolute;width: 1px;}#sk-container-id-10 div.sk-estimator {font-family: monospace;background-color: #f0f8ff;border: 1px dotted black;border-radius: 0.25em;box-sizing: border-box;margin-bottom: 0.5em;}#sk-container-id-10 div.sk-estimator:hover {background-color: #d4ebff;}#sk-container-id-10 div.sk-parallel-item::after {content: \"\";width: 100%;border-bottom: 1px solid gray;flex-grow: 1;}#sk-container-id-10 div.sk-label:hover label.sk-toggleable__label {background-color: #d4ebff;}#sk-container-id-10 div.sk-serial::before {content: \"\";position: absolute;border-left: 1px solid gray;box-sizing: border-box;top: 0;bottom: 0;left: 50%;z-index: 0;}#sk-container-id-10 div.sk-serial {display: flex;flex-direction: column;align-items: center;background-color: white;padding-right: 0.2em;padding-left: 0.2em;position: relative;}#sk-container-id-10 div.sk-item {position: relative;z-index: 1;}#sk-container-id-10 div.sk-parallel {display: flex;align-items: stretch;justify-content: center;background-color: white;position: relative;}#sk-container-id-10 div.sk-item::before, #sk-container-id-10 div.sk-parallel-item::before {content: \"\";position: absolute;border-left: 1px solid gray;box-sizing: border-box;top: 0;bottom: 0;left: 50%;z-index: -1;}#sk-container-id-10 div.sk-parallel-item {display: flex;flex-direction: column;z-index: 1;position: relative;background-color: white;}#sk-container-id-10 div.sk-parallel-item:first-child::after {align-self: flex-end;width: 50%;}#sk-container-id-10 div.sk-parallel-item:last-child::after {align-self: flex-start;width: 50%;}#sk-container-id-10 div.sk-parallel-item:only-child::after {width: 0;}#sk-container-id-10 div.sk-dashed-wrapped {border: 1px dashed gray;margin: 0 0.4em 0.5em 0.4em;box-sizing: border-box;padding-bottom: 0.4em;background-color: white;}#sk-container-id-10 div.sk-label label {font-family: monospace;font-weight: bold;display: inline-block;line-height: 1.2em;}#sk-container-id-10 div.sk-label-container {text-align: center;}#sk-container-id-10 div.sk-container {/* jupyter's `normalize.less` sets `[hidden] { display: none; }` but bootstrap.min.css set `[hidden] { display: none !important; }` so we also need the `!important` here to be able to override the default hidden behavior on the sphinx rendered scikit-learn.org. See: https://github.com/scikit-learn/scikit-learn/issues/21755 */display: inline-block !important;position: relative;}#sk-container-id-10 div.sk-text-repr-fallback {display: none;}</style><div id=\"sk-container-id-10\" class=\"sk-top-container\"><div class=\"sk-text-repr-fallback\"><pre>RandomForestClassifier(n_estimators=700)</pre><b>In a Jupyter environment, please rerun this cell to show the HTML representation or trust the notebook. <br />On GitHub, the HTML representation is unable to render, please try loading this page with nbviewer.org.</b></div><div class=\"sk-container\" hidden><div class=\"sk-item\"><div class=\"sk-estimator sk-toggleable\"><input class=\"sk-toggleable__control sk-hidden--visually\" id=\"sk-estimator-id-10\" type=\"checkbox\" checked><label for=\"sk-estimator-id-10\" class=\"sk-toggleable__label sk-toggleable__label-arrow\">RandomForestClassifier</label><div class=\"sk-toggleable__content\"><pre>RandomForestClassifier(n_estimators=700)</pre></div></div></div></div></div>"
     },
     "execution_count": 906,
     "metadata": {},
     "output_type": "execute_result"
    }
   ],
   "source": [
    "model = RandomForestClassifier(n_estimators=700)\n",
    "model.fit(train_set_data, train_set['Survived'])"
   ],
   "metadata": {
    "collapsed": false
   }
  },
  {
   "cell_type": "code",
   "execution_count": 907,
   "outputs": [],
   "source": [
    "predictions = model.predict(test_set)\n",
    "predictions = predictions.flatten()\n",
    "testdata_write = pd.read_csv('input/test.csv', encoding='utf8')\n",
    "submission = pd.DataFrame({\n",
    "\t'PassengerId': testdata_write['PassengerId'],\n",
    "\t'Survived': predictions\n",
    "})\n",
    "submission['Survived'] = submission['Survived'].astype(int)\n",
    "submission.to_csv('result/submission.csv', index=False, encoding='utf8')"
   ],
   "metadata": {
    "collapsed": false
   }
  },
  {
   "cell_type": "code",
   "execution_count": 908,
   "outputs": [
    {
     "name": "stdout",
     "output_type": "stream",
     "text": [
      "100%|████████████████████████████████████████| 2.77k/2.77k [00:03<00:00, 833B/s]\r\n",
      "400 - Bad Request\r\n"
     ]
    }
   ],
   "source": [
    "!kaggle competitions submit -f 'result/submission.csv' -m 'Random Forest model' titanic\n"
   ],
   "metadata": {
    "collapsed": false
   }
  }
 ],
 "metadata": {
  "kernelspec": {
   "display_name": "Python 3",
   "language": "python",
   "name": "python3"
  },
  "language_info": {
   "codemirror_mode": {
    "name": "ipython",
    "version": 3
   },
   "file_extension": ".py",
   "mimetype": "text/x-python",
   "name": "python",
   "nbconvert_exporter": "python",
   "pygments_lexer": "ipython3",
   "version": "3.8.3"
  }
 },
 "nbformat": 4,
 "nbformat_minor": 2
}
