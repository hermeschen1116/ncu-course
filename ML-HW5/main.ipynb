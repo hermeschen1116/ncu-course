{
 "cells": [
  {
   "cell_type": "code",
   "execution_count": 73,
   "metadata": {},
   "outputs": [],
   "source": [
    "# Visualization modulesrimport matplotlib.pyplot as plt\n",
    "# Import data preprocessing modules\n",
    "import pandas as pd\n",
    "import seaborn as sns\n",
    "from keras.layers.core import Dense, Activation\n",
    "\n",
    "# Install Keras and Sklearn\n",
    "from keras.models import Sequential\n",
    "from sklearn import preprocessing\n",
    "from sklearn.ensemble import RandomForestClassifier\n",
    "from sklearn.svm import SVC"
   ]
  },
  {
   "cell_type": "code",
   "execution_count": 74,
   "metadata": {
    "collapsed": false
   },
   "outputs": [],
   "source": [
    "%matplotlib inline\n",
    "# Set seaborn as the default drawing library\n",
    "sns.set()"
   ]
  },
  {
   "cell_type": "markdown",
   "metadata": {
    "collapsed": false
   },
   "source": [
    "# Train Data"
   ]
  },
  {
   "cell_type": "code",
   "execution_count": 75,
   "metadata": {
    "collapsed": false
   },
   "outputs": [],
   "source": [
    "# Read the file\n",
    "train_set = pd.read_csv(\"input/titanic.csv\", encoding=\"utf8\")"
   ]
  },
  {
   "cell_type": "code",
   "execution_count": 76,
   "metadata": {
    "collapsed": false
   },
   "outputs": [],
   "source": [
    "# Name\n",
    "train_set[\"Title\"] = train_set[\"Name\"].str.extract(\" ([A-Za-z]+)\\.\", expand=False)\n",
    "\n",
    "\n",
    "def title_mapping(title: str):\n",
    "    titles = {\"Mr\": 0, \"Miss\": 1, \"Mrs\": 2}\n",
    "    if title in titles.keys():\n",
    "        return titles[title]\n",
    "    return 3\n",
    "\n",
    "\n",
    "train_set[\"Title\"] = train_set[\"Title\"].map(title_mapping)\n",
    "train_set[\"Title\"] = train_set[\"Title\"].astype(int)\n",
    "train_set.drop(\"Name\", axis=1, inplace=True)"
   ]
  },
  {
   "cell_type": "code",
   "execution_count": 77,
   "metadata": {},
   "outputs": [],
   "source": [
    "# Sex\n",
    "sex_mapping = {\"male\": 0, \"female\": 1}\n",
    "train_set[\"Sex\"] = train_set[\"Sex\"].map(sex_mapping)\n",
    "train_set[\"Sex\"] = train_set[\"Sex\"].astype(int)"
   ]
  },
  {
   "cell_type": "code",
   "execution_count": 78,
   "metadata": {},
   "outputs": [],
   "source": [
    "# Age\n",
    "train_set[\"Age\"].fillna(train_set.groupby(\"Title\")[\"Age\"].transform(\"median\"), inplace=True)\n",
    "train_set.loc[train_set[\"Age\"] <= 16, \"Age\"] = 0\n",
    "train_set.loc[(train_set[\"Age\"] > 16) & (train_set[\"Age\"] <= 26), \"Age\"] = 1\n",
    "train_set.loc[(train_set[\"Age\"] > 26) & (train_set[\"Age\"] <= 36), \"Age\"] = 2\n",
    "train_set.loc[(train_set[\"Age\"] > 36) & (train_set[\"Age\"] <= 62), \"Age\"] = 3\n",
    "train_set.loc[train_set[\"Age\"] > 62, \"Age\"] = 4\n",
    "train_set[\"Age\"] = train_set[\"Age\"].astype(int)"
   ]
  },
  {
   "cell_type": "code",
   "execution_count": 79,
   "metadata": {},
   "outputs": [],
   "source": [
    "# Embarked\n",
    "train_set[\"Embarked\"] = train_set[\"Embarked\"].fillna(\"S\")\n",
    "embarked_mapping = {\"S\": 0, \"C\": 1, \"Q\": 2}\n",
    "train_set[\"Embarked\"] = train_set[\"Embarked\"].map(embarked_mapping)\n",
    "train_set[\"Embarked\"] = train_set[\"Embarked\"].astype(int)"
   ]
  },
  {
   "cell_type": "code",
   "execution_count": 80,
   "metadata": {},
   "outputs": [],
   "source": [
    "# Fare\n",
    "train_set[\"Fare\"].fillna(train_set.groupby(\"Pclass\")[\"Fare\"].transform(\"median\"), inplace=True)\n",
    "train_set.loc[train_set[\"Fare\"] <= 17, \"Fare\"] = 0\n",
    "train_set.loc[(train_set[\"Fare\"] > 17) & (train_set[\"Fare\"] <= 30), \"Fare\"] = 1\n",
    "train_set.loc[(train_set[\"Fare\"] > 30) & (train_set[\"Fare\"] <= 100), \"Fare\"] = 2\n",
    "train_set.loc[train_set[\"Fare\"] > 100, \"Fare\"] = 3\n",
    "train_set[\"Fare\"] = train_set[\"Fare\"].astype(int)"
   ]
  },
  {
   "cell_type": "code",
   "execution_count": 81,
   "metadata": {},
   "outputs": [],
   "source": [
    "# Cabin\n",
    "train_set[\"Cabin\"] = train_set[\"Cabin\"].str[:1]\n",
    "cabin_mapping = {\"A\": 0, \"B\": 0.4, \"C\": 0.8, \"D\": 1.2, \"E\": 1.6, \"F\": 2, \"G\": 2.4, \"T\": 2.8}\n",
    "train_set[\"Cabin\"] = train_set[\"Cabin\"].map(cabin_mapping)\n",
    "train_set[\"Cabin\"].fillna(train_set.groupby(\"Pclass\")[\"Cabin\"].transform(\"median\"), inplace=True)\n",
    "train_set[\"Cabin\"] = train_set[\"Cabin\"].astype(float)"
   ]
  },
  {
   "cell_type": "code",
   "execution_count": 82,
   "metadata": {
    "collapsed": false
   },
   "outputs": [],
   "source": [
    "# Sibsp & Parch\n",
    "train_set[\"FamilySize\"] = train_set[\"SibSp\"] + train_set[\"Parch\"] + 1\n",
    "family_mapping: dict = {1: 0, 2: 0.4, 3: 0.8, 4: 1.2, 5: 1.6, 6: 2, 7: 2.4, 8: 2.8, 9: 3.2, 10: 3.6, 11: 4}\n",
    "train_set[\"FamilySize\"] = train_set[\"FamilySize\"].map(family_mapping)\n",
    "train_set[\"FamilySize\"] = train_set[\"FamilySize\"].astype(float)"
   ]
  },
  {
   "cell_type": "code",
   "execution_count": 83,
   "metadata": {},
   "outputs": [],
   "source": [
    "# Delete Sibsp, Parch, Ticket\n",
    "feature_drop = [\"Ticket\", \"SibSp\", \"Parch\"]\n",
    "train_set = train_set.drop(feature_drop, axis=1)"
   ]
  },
  {
   "cell_type": "code",
   "execution_count": 84,
   "metadata": {},
   "outputs": [],
   "source": [
    "# Set Target Variables and Explanatory Variables\n",
    "train_set_data = train_set.drop(\"Survived\", axis=1)\n",
    "train_set_label = train_set[[\"Survived\"]]"
   ]
  },
  {
   "cell_type": "code",
   "execution_count": 85,
   "metadata": {
    "collapsed": false
   },
   "outputs": [],
   "source": [
    "# Feature Normalization\n",
    "minmax_scale = preprocessing.MinMaxScaler(feature_range=(0, 1))\n",
    "train_set_data = minmax_scale.fit_transform(train_set_data)"
   ]
  },
  {
   "cell_type": "markdown",
   "metadata": {
    "collapsed": false
   },
   "source": [
    "# Test Data"
   ]
  },
  {
   "cell_type": "code",
   "execution_count": 86,
   "metadata": {
    "collapsed": false
   },
   "outputs": [],
   "source": [
    "test_set = pd.read_csv(\"input/test.csv\", encoding=\"utf8\")"
   ]
  },
  {
   "cell_type": "code",
   "execution_count": 87,
   "metadata": {
    "collapsed": false
   },
   "outputs": [],
   "source": [
    "# Name\n",
    "test_set[\"Title\"] = test_set[\"Name\"].str.extract(\" ([A-Za-z]+)\\.\", expand=False)\n",
    "\n",
    "\n",
    "def title_mapping(title: str):\n",
    "    titles = {\"Mr\": 0, \"Miss\": 1, \"Mrs\": 2}\n",
    "    if title in titles.keys():\n",
    "        return titles[title]\n",
    "    return 3\n",
    "\n",
    "\n",
    "test_set[\"Title\"] = test_set[\"Title\"].map(title_mapping)\n",
    "train_set[\"Title\"] = train_set[\"Title\"].astype(int)\n",
    "test_set.drop(\"Name\", axis=1, inplace=True)"
   ]
  },
  {
   "cell_type": "code",
   "execution_count": 88,
   "metadata": {
    "collapsed": false
   },
   "outputs": [],
   "source": [
    "# Sex\n",
    "sex_mapping = {\"male\": 0, \"female\": 1}\n",
    "test_set[\"Sex\"] = test_set[\"Sex\"].map(sex_mapping)\n",
    "test_set[\"Sex\"] = test_set[\"Sex\"].astype(int)"
   ]
  },
  {
   "cell_type": "code",
   "execution_count": 89,
   "metadata": {
    "collapsed": false
   },
   "outputs": [],
   "source": [
    "# Age\n",
    "test_set[\"Age\"].fillna(test_set.groupby(\"Title\")[\"Age\"].transform(\"median\"), inplace=True)\n",
    "test_set.loc[test_set[\"Age\"] <= 16, \"Age\"] = 0\n",
    "test_set.loc[(test_set[\"Age\"] > 16) & (test_set[\"Age\"] <= 26), \"Age\"] = 1\n",
    "test_set.loc[(test_set[\"Age\"] > 26) & (test_set[\"Age\"] <= 36), \"Age\"] = 2\n",
    "test_set.loc[(test_set[\"Age\"] > 36) & (test_set[\"Age\"] <= 62), \"Age\"] = 3\n",
    "test_set.loc[test_set[\"Age\"] > 62, \"Age\"] = 4\n",
    "test_set[\"Age\"] = test_set[\"Age\"].astype(int)"
   ]
  },
  {
   "cell_type": "code",
   "execution_count": 90,
   "metadata": {
    "collapsed": false
   },
   "outputs": [],
   "source": [
    "# Embarked (登船地點)\n",
    "test_set[\"Embarked\"] = test_set[\"Embarked\"].fillna(\"S\")\n",
    "embarked_mapping = {\"S\": 0, \"C\": 1, \"Q\": 2}\n",
    "test_set[\"Embarked\"] = test_set[\"Embarked\"].map(embarked_mapping)\n",
    "test_set[\"Embarked\"] = test_set[\"Embarked\"].astype(int)"
   ]
  },
  {
   "cell_type": "code",
   "execution_count": 91,
   "metadata": {
    "collapsed": false
   },
   "outputs": [],
   "source": [
    "# Fare(票價)\n",
    "test_set[\"Fare\"].fillna(test_set.groupby(\"Pclass\")[\"Fare\"].transform(\"median\"), inplace=True)\n",
    "test_set.loc[test_set[\"Fare\"] <= 17, \"Fare\"] = 0\n",
    "test_set.loc[(test_set[\"Fare\"] > 17) & (test_set[\"Fare\"] <= 30), \"Fare\"] = 1\n",
    "test_set.loc[(test_set[\"Fare\"] > 30) & (test_set[\"Fare\"] <= 100), \"Fare\"] = 2\n",
    "test_set.loc[test_set[\"Fare\"] > 100, \"Fare\"] = 3\n",
    "test_set[\"Fare\"] = test_set[\"Fare\"].astype(int)"
   ]
  },
  {
   "cell_type": "code",
   "execution_count": 92,
   "metadata": {
    "collapsed": false
   },
   "outputs": [],
   "source": [
    "# Cabin\n",
    "test_set[\"Cabin\"] = test_set[\"Cabin\"].str[:1]\n",
    "cabin_mapping = {\"A\": 0, \"B\": 0.4, \"C\": 0.8, \"D\": 1.2, \"E\": 1.6, \"F\": 2, \"G\": 2.4, \"T\": 2.8}\n",
    "test_set[\"Cabin\"] = test_set[\"Cabin\"].map(cabin_mapping)\n",
    "test_set[\"Cabin\"].fillna(test_set.groupby(\"Pclass\")[\"Cabin\"].transform(\"median\"), inplace=True)\n",
    "test_set[\"Cabin\"] = test_set[\"Cabin\"].astype(float)"
   ]
  },
  {
   "cell_type": "code",
   "execution_count": 93,
   "metadata": {
    "collapsed": false
   },
   "outputs": [],
   "source": [
    "# FamilySize\n",
    "test_set[\"FamilySize\"] = test_set[\"SibSp\"] + test_set[\"Parch\"] + 1\n",
    "family_mapping: dict = {1: 0, 2: 0.4, 3: 0.8, 4: 1.2, 5: 1.6, 6: 2, 7: 2.4, 8: 2.8, 9: 3.2, 10: 3.6, 11: 4}\n",
    "test_set[\"FamilySize\"] = test_set[\"FamilySize\"].map(family_mapping)\n",
    "test_set[\"FamilySize\"] = test_set[\"FamilySize\"].astype(float)"
   ]
  },
  {
   "cell_type": "code",
   "execution_count": 94,
   "metadata": {
    "collapsed": false
   },
   "outputs": [],
   "source": [
    "# Data Cleaning (資料清洗)\n",
    "feature_drop = [\"Ticket\", \"SibSp\", \"Parch\"]\n",
    "test_set = test_set.drop(feature_drop, axis=1)"
   ]
  },
  {
   "cell_type": "code",
   "execution_count": 95,
   "metadata": {
    "collapsed": false
   },
   "outputs": [],
   "source": [
    "# Feature Normalization\n",
    "minmax_scale = preprocessing.MinMaxScaler(feature_range=(0, 1))\n",
    "test_set = minmax_scale.fit_transform(test_set)"
   ]
  },
  {
   "cell_type": "markdown",
   "metadata": {
    "collapsed": false
   },
   "source": [
    "# Model"
   ]
  },
  {
   "cell_type": "markdown",
   "metadata": {
    "collapsed": false
   },
   "source": [
    "# Build the model-DNN"
   ]
  },
  {
   "cell_type": "code",
   "execution_count": 96,
   "metadata": {
    "collapsed": false
   },
   "outputs": [],
   "source": [
    "# Create Model Function\n",
    "def DNN():\n",
    "    model = Sequential()\n",
    "    model.add(Dense(input_dim=9, units=40))\n",
    "    model.add(Activation(\"relu\"))\n",
    "    model.add(Dense(units=100))\n",
    "    model.add(Activation(\"relu\"))\n",
    "    model.add(Dense(units=10))\n",
    "    model.add(Activation(\"relu\"))\n",
    "    model.add(Dense(units=1))\n",
    "    model.add(Activation(\"sigmoid\"))\n",
    "    model.summary()\n",
    "\n",
    "    return model"
   ]
  },
  {
   "cell_type": "code",
   "execution_count": 97,
   "metadata": {
    "collapsed": false
   },
   "outputs": [],
   "source": [
    "# Create a Drawing Function\n",
    "def show_train_history(train_history, train, validation, label):\n",
    "    plt.plot(train_history.history[train])\n",
    "    plt.plot(train_history.history[validation])\n",
    "    plt.title(\"Train History\")\n",
    "    plt.ylabel(label)\n",
    "    plt.xlabel(\"Epoch\")\n",
    "    plt.legend([\"train\", \"validation\"], loc=\"upper left\")\n",
    "    plt.show()"
   ]
  },
  {
   "cell_type": "code",
   "execution_count": 98,
   "metadata": {
    "collapsed": false
   },
   "outputs": [
    {
     "name": "stdout",
     "output_type": "stream",
     "text": [
      "Model: \"sequential_2\"\n",
      "_________________________________________________________________\n",
      " Layer (type)                Output Shape              Param #   \n",
      "=================================================================\n",
      " dense_8 (Dense)             (None, 40)                400       \n",
      "                                                                 \n",
      " activation_8 (Activation)   (None, 40)                0         \n",
      "                                                                 \n",
      " dense_9 (Dense)             (None, 100)               4100      \n",
      "                                                                 \n",
      " activation_9 (Activation)   (None, 100)               0         \n",
      "                                                                 \n",
      " dense_10 (Dense)            (None, 10)                1010      \n",
      "                                                                 \n",
      " activation_10 (Activation)  (None, 10)                0         \n",
      "                                                                 \n",
      " dense_11 (Dense)            (None, 1)                 11        \n",
      "                                                                 \n",
      " activation_11 (Activation)  (None, 1)                 0         \n",
      "                                                                 \n",
      "=================================================================\n",
      "Total params: 5,521\n",
      "Trainable params: 5,521\n",
      "Non-trainable params: 0\n",
      "_________________________________________________________________\n",
      "Epoch 1/20\n",
      "24/24 [==============================] - 0s 3ms/step - loss: 0.4463 - acc: 0.8006 - val_loss: 0.3999 - val_acc: 0.8045\n",
      "Epoch 5/20\n",
      "24/24 [==============================] - 0s 4ms/step - loss: 0.4379 - acc: 0.8118 - val_loss: 0.4003 - val_acc: 0.7989\n",
      "Epoch 6/20\n",
      "24/24 [==============================] - 0s 4ms/step - loss: 0.4343 - acc: 0.8048 - val_loss: 0.4029 - val_acc: 0.8101\n",
      "Epoch 7/20\n",
      "24/24 [==============================] - 0s 3ms/step - loss: 0.4315 - acc: 0.8160 - val_loss: 0.4046 - val_acc: 0.7989\n",
      "Epoch 8/20\n",
      "24/24 [==============================] - 0s 2ms/step - loss: 0.4192 - acc: 0.8230 - val_loss: 0.3719 - val_acc: 0.8547\n",
      "Epoch 9/20\n",
      "24/24 [==============================] - 0s 2ms/step - loss: 0.4217 - acc: 0.8230 - val_loss: 0.3749 - val_acc: 0.8212\n",
      "Epoch 10/20\n",
      "24/24 [==============================] - 0s 2ms/step - loss: 0.4141 - acc: 0.8244 - val_loss: 0.3845 - val_acc: 0.8156\n",
      "Epoch 11/20\n",
      "24/24 [==============================] - 0s 2ms/step - loss: 0.4124 - acc: 0.8258 - val_loss: 0.3716 - val_acc: 0.8212\n",
      "Epoch 12/20\n",
      "24/24 [==============================] - 0s 2ms/step - loss: 0.4102 - acc: 0.8385 - val_loss: 0.3610 - val_acc: 0.8380\n",
      "Epoch 13/20\n",
      "24/24 [==============================] - 0s 3ms/step - loss: 0.4069 - acc: 0.8258 - val_loss: 0.3946 - val_acc: 0.8324\n",
      "Epoch 14/20\n",
      "24/24 [==============================] - 0s 2ms/step - loss: 0.4045 - acc: 0.8315 - val_loss: 0.3872 - val_acc: 0.8380\n",
      "Epoch 15/20\n",
      "24/24 [==============================] - 0s 2ms/step - loss: 0.4019 - acc: 0.8244 - val_loss: 0.3698 - val_acc: 0.8547\n",
      "Epoch 16/20\n",
      "24/24 [==============================] - 0s 2ms/step - loss: 0.4017 - acc: 0.8287 - val_loss: 0.3608 - val_acc: 0.8603\n",
      "Epoch 17/20\n",
      "24/24 [==============================] - 0s 2ms/step - loss: 0.3983 - acc: 0.8385 - val_loss: 0.3991 - val_acc: 0.8101\n",
      "Epoch 18/20\n",
      "24/24 [==============================] - 0s 3ms/step - loss: 0.4033 - acc: 0.8258 - val_loss: 0.4199 - val_acc: 0.8101\n",
      "Epoch 19/20\n",
      "24/24 [==============================] - 0s 3ms/step - loss: 0.3969 - acc: 0.8399 - val_loss: 0.3833 - val_acc: 0.8268\n",
      "Epoch 20/20\n",
      "24/24 [==============================] - 0s 3ms/step - loss: 0.3941 - acc: 0.8343 - val_loss: 0.3636 - val_acc: 0.8715\n",
      "28/28 [==============================] - 0s 1ms/step - loss: 0.3854 - acc: 0.8485\n",
      "\n",
      "Train Loss: 0.38539209961891174\n",
      "\n",
      "Train Acc: 0.8484848737716675\n",
      "24/24 [==============================] - 1s 12ms/step - loss: 0.6435 - acc: 0.6433 - val_loss: 0.5464 - val_acc: 0.7933\n",
      "Epoch 2/20\n",
      "24/24 [==============================] - 0s 3ms/step - loss: 0.5226 - acc: 0.7879 - val_loss: 0.4378 - val_acc: 0.8268\n",
      "Epoch 3/20\n",
      "24/24 [==============================] - 0s 3ms/step - loss: 0.4613 - acc: 0.7935 - val_loss: 0.4064 - val_acc: 0.8101\n",
      "Epoch 4/20\n",
      " 1/24 [>.............................] - ETA: 0s - loss: 0.4158 - acc: 0.8000"
     ]
    }
   ],
   "source": [
    "model = DNN()\n",
    "# Train Model\n",
    "model.compile(loss=\"binary_crossentropy\", optimizer=\"adam\", metrics=[\"acc\"])\n",
    "train_history = model.fit(train_set_data, train_set_label, validation_split=0.2, batch_size=30, epochs=20)\n",
    "# Evaluate training result\n",
    "score = model.evaluate(x=train_set_data, y=train_set_label)\n",
    "print(\"\\nTrain Loss:\", score[0])\n",
    "print(\"\\nTrain Acc:\", score[1])"
   ]
  },
  {
   "cell_type": "code",
   "execution_count": 99,
   "metadata": {
    "collapsed": false
   },
   "outputs": [
    {
     "data": {
      "image/png": "[encoded data removed]",
      "text/plain": "<Figure size 640x480 with 1 Axes>"
     },
     "metadata": {},
     "output_type": "display_data"
    },
    {
     "data": {
      "image/png": "[encoded data removed]",
      "text/plain": "<Figure size 640x480 with 1 Axes>"
     },
     "metadata": {},
     "output_type": "display_data"
    }
   ],
   "source": [
    "# Show Training Process\n",
    "show_train_history(train_history, \"acc\", \"val_acc\", \"accuracy\")\n",
    "show_train_history(train_history, \"loss\", \"val_loss\", \"loss\")"
   ]
  },
  {
   "cell_type": "code",
   "execution_count": 100,
   "metadata": {
    "collapsed": false
   },
   "outputs": [
    {
     "name": "stdout",
     "output_type": "stream",
     "text": [
      "weights = [[ 0.37326157 -0.40093488 -0.18645133  0.33582845 -0.19828475 -0.24622557\n",
      "   0.08570698  0.18613826  0.09125245 -0.00182215 -0.12595865  0.23675673\n",
      "   0.26215523  0.08506303 -0.11521262 -0.04196816 -0.07534149  0.22266473\n",
      "  -0.3021242   0.13412528  0.26548153  0.06200015 -0.34518933 -0.03204253\n",
      "   0.08270919  0.22247717 -0.04666443  0.33509293  0.07331009 -0.06929991\n",
      "   0.35984898  0.1844349  -0.2067288  -0.01444224  0.18930167  0.08806486\n",
      "  -0.10012057  0.1876046   0.1198518  -0.16773131]\n",
      " [-0.16981244  0.10855047 -0.31289884 -0.14448692  0.42018065  0.09087567\n",
      "  -0.4274726   0.32901     0.1281451  -0.28514397 -0.03669112  0.04044982\n",
      "  -0.18858881 -0.26848394  0.34282216  0.06829016  0.06103009  0.20320313\n",
      "  -0.03824411 -0.29585177  0.1954717   0.3300211   0.13403045 -0.08565143\n",
      "  -0.07921391 -0.27424634  0.10046861 -0.0800734   0.06883647  0.32742944\n",
      "  -0.13960755  0.16253805  0.27070013  0.08227336 -0.36716557 -0.33932912\n",
      "  -0.08336806  0.04843303 -0.20083301  0.22394325]\n",
      " [-0.1510324  -0.11845415 -0.13285275  0.21886957 -0.15227994 -0.35469228\n",
      "  -0.22331548  0.00668069 -0.2378761  -0.10420598  0.10031745  0.3003406\n",
      "  -0.34812853  0.21741986 -0.12590949  0.04339977 -0.28257376  0.02182665\n",
      "   0.10259394 -0.1699135  -0.16554613 -0.2666528   0.3236452  -0.36373925\n",
      "  -0.19267085  0.32908767  0.04591115  0.06468802  0.28832117 -0.14210604\n",
      "  -0.03556388 -0.31109893  0.16547604 -0.08910376  0.38016185  0.35148254\n",
      "  -0.37704206 -0.37798157 -0.16470206  0.26652995]\n",
      " [-0.12251325  0.31441668  0.31949794 -0.06930094  0.3090686   0.01138966\n",
      "  -0.09405132  0.14803858  0.31100595 -0.16024758 -0.09252331 -0.16413878\n",
      "  -0.44407618  0.06928979 -0.01510418  0.20155808 -0.42364752  0.01637676\n",
      "  -0.11201596 -0.2029617   0.11707814  0.35494754 -0.3321969  -0.07438528\n",
      "   0.0069912   0.25954372 -0.10905178  0.17214002 -0.03341044  0.2350018\n",
      "   0.3269899  -0.08273384 -0.02880948  0.11932091  0.12845942  0.24135864\n",
      "  -0.27880025  0.0386937   0.18042716 -0.02013219]\n",
      " [ 0.33835402  0.22472376 -0.35284933  0.16852427  0.406581   -0.16407442\n",
      "  -0.14423783  0.13307178  0.36518633 -0.10356568  0.26473325  0.12069726\n",
      "  -0.11304627  0.13310578  0.43175444  0.11370102  0.16333637 -0.08326262\n",
      "  -0.21074837 -0.02944483  0.05805813 -0.22645149  0.00724439  0.12545899\n",
      "  -0.16625553 -0.00709544 -0.15837096 -0.26165056  0.01249554  0.06895544\n",
      "  -0.21346171  0.18895496 -0.18378673  0.31514114  0.22233215  0.15757658\n",
      "   0.27459472  0.10751265 -0.05424665  0.09533564]\n",
      " [ 0.09540822 -0.13449176 -0.00612394 -0.22951552 -0.24489102  0.12217885\n",
      "   0.23844825 -0.06024421 -0.17834607 -0.2790318   0.08920711  0.14024349\n",
      "   0.030183    0.16325247 -0.08039212  0.07523711  0.23582222 -0.01956188\n",
      "  -0.21558253 -0.2418961   0.3412801   0.05755184  0.20933488  0.33167052\n",
      "   0.05233283 -0.17645264  0.07907576  0.22051065 -0.28052232 -0.2661459\n",
      "   0.23341069 -0.20144227  0.32207423  0.31559947  0.2740227   0.21671864\n",
      "  -0.06203905 -0.3032384   0.12502243 -0.2743857 ]\n",
      " [-0.11013219  0.03169695  0.15939203 -0.17068642 -0.3200712   0.24716832\n",
      "  -0.34816608 -0.24344677 -0.09027755  0.31620866  0.28223732  0.10575403\n",
      "  -0.09856138  0.12251105 -0.35334635  0.2775586  -0.10529637  0.33327848\n",
      "   0.28645608 -0.2565896   0.17363732 -0.22150075  0.24837036  0.35291135\n",
      "  -0.2782565  -0.21570586  0.15864632  0.1657423   0.06185171  0.15274651\n",
      "  -0.13500872  0.34096435 -0.26248437  0.2829617   0.02550714  0.11928289\n",
      "   0.37846437  0.2412491   0.02400526  0.10617151]\n",
      " [ 0.24736181 -0.04254494  0.34895226  0.09277344 -0.2957819  -0.38120794\n",
      "  -0.12034734 -0.21129547  0.11099795 -0.33450714  0.03431404  0.02029125\n",
      "   0.34658906  0.09750614 -0.19564101  0.11661411  0.15852077 -0.35637987\n",
      "   0.07154565  0.09549668 -0.04494476  0.11932036  0.15204248  0.33876038\n",
      "   0.37973142 -0.31152692  0.01547926 -0.19385786 -0.07151473  0.09288463\n",
      "   0.15191273  0.05137887 -0.03137562  0.1899369   0.23293737  0.36189178\n",
      "   0.10031799 -0.01684103 -0.01250998  0.14509575]\n",
      " [-0.01953079 -0.22791663  0.26643112 -0.23905596  0.28339317 -0.35846058\n",
      "   0.1359917  -0.0884779   0.21439415  0.32279897 -0.34514943  0.06940717\n",
      "   0.22116521 -0.07122397 -0.03803879  0.21708953 -0.30802727  0.22355945\n",
      "  -0.21205126  0.21084991 -0.21161006  0.3062741  -0.241029   -0.20673221\n",
      "   0.19782546 -0.01934129 -0.22082108  0.361762    0.17995803 -0.12116176\n",
      "   0.41954663 -0.13283327  0.28352213  0.28045094 -0.33895752 -0.04010133\n",
      "   0.4022679   0.23749807 -0.38550872 -0.03376767]], \n",
      "\n",
      "biases = [ 0.01834541  0.03412769  0.01222307  0.04717996  0.06944371  0.04632653\n",
      "  0.00267754  0.00774387  0.04966217 -0.0080342   0.03190255  0.01105777\n",
      "  0.0092687   0.03659156  0.00205511 -0.02620007 -0.00474327 -0.00949658\n",
      "  0.0042728  -0.01262494  0.00230699  0.03486733 -0.02536852  0.01539059\n",
      "  0.04166332  0.00360913 -0.01387855  0.02493197  0.03107539  0.00652386\n",
      "  0.01644144 -0.02381137  0.01951278 -0.02890582  0.02119529  0.03162593\n",
      " -0.00817142  0.01381814  0.04182692  0.04787665]\n"
     ]
    }
   ],
   "source": [
    "W, b = model.layers[0].get_weights()\n",
    "print(\"weights = {}, \\n\\nbiases = {}\".format(W, b))"
   ]
  },
  {
   "cell_type": "code",
   "execution_count": 101,
   "metadata": {
    "collapsed": false
   },
   "outputs": [
    {
     "name": "stdout",
     "output_type": "stream",
     "text": [
      "14/14 [==============================] - 0s 1ms/step\n"
     ]
    }
   ],
   "source": [
    "predictions = model.predict(test_set)\n",
    "predictions = predictions.flatten()\n",
    "testdata_write = pd.read_csv(\"input/test.csv\", encoding=\"utf8\")\n",
    "submission = pd.DataFrame({\"PassengerId\": testdata_write[\"PassengerId\"], \"Survived\": predictions})\n",
    "submission[\"Survived\"] = submission[\"Survived\"].astype(int)\n",
    "submission.to_csv(\"result/DNN_submission.csv\", index=False, encoding=\"utf8\")"
   ]
  },
  {
   "cell_type": "code",
   "execution_count": 102,
   "metadata": {
    "collapsed": false
   },
   "outputs": [
    {
     "name": "stdout",
     "output_type": "stream",
     "text": [
      "100%|████████████████████████████████████████| 2.77k/2.77k [00:03<00:00, 812B/s]\r\n",
      "Successfully submitted to Titanic - Machine Learning from Disaster"
     ]
    }
   ],
   "source": [
    "!kaggle competitions submit -f 'result/DNN_submission.csv' -m 'DNN model' titanic"
   ]
  },
  {
   "cell_type": "markdown",
   "metadata": {
    "collapsed": false
   },
   "source": [
    "# SVM"
   ]
  },
  {
   "cell_type": "code",
   "execution_count": 103,
   "metadata": {
    "collapsed": false
   },
   "outputs": [
    {
     "data": {
      "text/html": "<style>#sk-container-id-5 {color: black;background-color: white;}#sk-container-id-5 pre{padding: 0;}#sk-container-id-5 div.sk-toggleable {background-color: white;}#sk-container-id-5 label.sk-toggleable__label {cursor: pointer;display: block;width: 100%;margin-bottom: 0;padding: 0.3em;box-sizing: border-box;text-align: center;}#sk-container-id-5 label.sk-toggleable__label-arrow:before {content: \"▸\";float: left;margin-right: 0.25em;color: #696969;}#sk-container-id-5 label.sk-toggleable__label-arrow:hover:before {color: black;}#sk-container-id-5 div.sk-estimator:hover label.sk-toggleable__label-arrow:before {color: black;}#sk-container-id-5 div.sk-toggleable__content {max-height: 0;max-width: 0;overflow: hidden;text-align: left;background-color: #f0f8ff;}#sk-container-id-5 div.sk-toggleable__content pre {margin: 0.2em;color: black;border-radius: 0.25em;background-color: #f0f8ff;}#sk-container-id-5 input.sk-toggleable__control:checked~div.sk-toggleable__content {max-height: 200px;max-width: 100%;overflow: auto;}#sk-container-id-5 input.sk-toggleable__control:checked~label.sk-toggleable__label-arrow:before {content: \"▾\";}#sk-container-id-5 div.sk-estimator input.sk-toggleable__control:checked~label.sk-toggleable__label {background-color: #d4ebff;}#sk-container-id-5 div.sk-label input.sk-toggleable__control:checked~label.sk-toggleable__label {background-color: #d4ebff;}#sk-container-id-5 input.sk-hidden--visually {border: 0;clip: rect(1px 1px 1px 1px);clip: rect(1px, 1px, 1px, 1px);height: 1px;margin: -1px;overflow: hidden;padding: 0;position: absolute;width: 1px;}#sk-container-id-5 div.sk-estimator {font-family: monospace;background-color: #f0f8ff;border: 1px dotted black;border-radius: 0.25em;box-sizing: border-box;margin-bottom: 0.5em;}#sk-container-id-5 div.sk-estimator:hover {background-color: #d4ebff;}#sk-container-id-5 div.sk-parallel-item::after {content: \"\";width: 100%;border-bottom: 1px solid gray;flex-grow: 1;}#sk-container-id-5 div.sk-label:hover label.sk-toggleable__label {background-color: #d4ebff;}#sk-container-id-5 div.sk-serial::before {content: \"\";position: absolute;border-left: 1px solid gray;box-sizing: border-box;top: 0;bottom: 0;left: 50%;z-index: 0;}#sk-container-id-5 div.sk-serial {display: flex;flex-direction: column;align-items: center;background-color: white;padding-right: 0.2em;padding-left: 0.2em;position: relative;}#sk-container-id-5 div.sk-item {position: relative;z-index: 1;}#sk-container-id-5 div.sk-parallel {display: flex;align-items: stretch;justify-content: center;background-color: white;position: relative;}#sk-container-id-5 div.sk-item::before, #sk-container-id-5 div.sk-parallel-item::before {content: \"\";position: absolute;border-left: 1px solid gray;box-sizing: border-box;top: 0;bottom: 0;left: 50%;z-index: -1;}#sk-container-id-5 div.sk-parallel-item {display: flex;flex-direction: column;z-index: 1;position: relative;background-color: white;}#sk-container-id-5 div.sk-parallel-item:first-child::after {align-self: flex-end;width: 50%;}#sk-container-id-5 div.sk-parallel-item:last-child::after {align-self: flex-start;width: 50%;}#sk-container-id-5 div.sk-parallel-item:only-child::after {width: 0;}#sk-container-id-5 div.sk-dashed-wrapped {border: 1px dashed gray;margin: 0 0.4em 0.5em 0.4em;box-sizing: border-box;padding-bottom: 0.4em;background-color: white;}#sk-container-id-5 div.sk-label label {font-family: monospace;font-weight: bold;display: inline-block;line-height: 1.2em;}#sk-container-id-5 div.sk-label-container {text-align: center;}#sk-container-id-5 div.sk-container {/* jupyter's `normalize.less` sets `[hidden] { display: none; }` but bootstrap.min.css set `[hidden] { display: none !important; }` so we also need the `!important` here to be able to override the default hidden behavior on the sphinx rendered scikit-learn.org. See: https://github.com/scikit-learn/scikit-learn/issues/21755 */display: inline-block !important;position: relative;}#sk-container-id-5 div.sk-text-repr-fallback {display: none;}</style><div id=\"sk-container-id-5\" class=\"sk-top-container\"><div class=\"sk-text-repr-fallback\"><pre>SVC()</pre><b>In a Jupyter environment, please rerun this cell to show the HTML representation or trust the notebook. <br />On GitHub, the HTML representation is unable to render, please try loading this page with nbviewer.org.</b></div><div class=\"sk-container\" hidden><div class=\"sk-item\"><div class=\"sk-estimator sk-toggleable\"><input class=\"sk-toggleable__control sk-hidden--visually\" id=\"sk-estimator-id-5\" type=\"checkbox\" checked><label for=\"sk-estimator-id-5\" class=\"sk-toggleable__label sk-toggleable__label-arrow\">SVC</label><div class=\"sk-toggleable__content\"><pre>SVC()</pre></div></div></div></div></div>",
      "text/plain": "SVC()"
     },
     "execution_count": 103,
     "metadata": {},
     "output_type": "execute_result"
    }
   ],
   "source": [
    "model = SVC()\n",
    "model.fit(train_set_data, train_set[\"Survived\"])"
   ]
  },
  {
   "cell_type": "code",
   "execution_count": 104,
   "metadata": {
    "collapsed": false
   },
   "outputs": [],
   "source": [
    "predictions = model.predict(test_set)\n",
    "predictions = predictions.flatten()\n",
    "testdata_write = pd.read_csv(\"input/test.csv\", encoding=\"utf8\")\n",
    "submission = pd.DataFrame({\"PassengerId\": testdata_write[\"PassengerId\"], \"Survived\": predictions})\n",
    "submission[\"Survived\"] = submission[\"Survived\"].astype(int)\n",
    "submission.to_csv(\"result/SVM_submission.csv\", index=False, encoding=\"utf8\")"
   ]
  },
  {
   "cell_type": "code",
   "execution_count": 105,
   "metadata": {
    "collapsed": false
   },
   "outputs": [
    {
     "name": "stdout",
     "output_type": "stream",
     "text": [
      "100%|████████████████████████████████████████| 2.77k/2.77k [00:04<00:00, 678B/s]\r\n",
      "Successfully submitted to Titanic - Machine Learning from Disaster"
     ]
    }
   ],
   "source": [
    "!kaggle competitions submit -f 'result/SVM_submission.csv' -m 'SVM model' titanic"
   ]
  },
  {
   "cell_type": "markdown",
   "metadata": {
    "collapsed": false
   },
   "source": [
    "# Random Forest"
   ]
  },
  {
   "cell_type": "code",
   "execution_count": 106,
   "metadata": {
    "collapsed": false
   },
   "outputs": [
    {
     "data": {
      "text/html": "<style>#sk-container-id-6 {color: black;background-color: white;}#sk-container-id-6 pre{padding: 0;}#sk-container-id-6 div.sk-toggleable {background-color: white;}#sk-container-id-6 label.sk-toggleable__label {cursor: pointer;display: block;width: 100%;margin-bottom: 0;padding: 0.3em;box-sizing: border-box;text-align: center;}#sk-container-id-6 label.sk-toggleable__label-arrow:before {content: \"▸\";float: left;margin-right: 0.25em;color: #696969;}#sk-container-id-6 label.sk-toggleable__label-arrow:hover:before {color: black;}#sk-container-id-6 div.sk-estimator:hover label.sk-toggleable__label-arrow:before {color: black;}#sk-container-id-6 div.sk-toggleable__content {max-height: 0;max-width: 0;overflow: hidden;text-align: left;background-color: #f0f8ff;}#sk-container-id-6 div.sk-toggleable__content pre {margin: 0.2em;color: black;border-radius: 0.25em;background-color: #f0f8ff;}#sk-container-id-6 input.sk-toggleable__control:checked~div.sk-toggleable__content {max-height: 200px;max-width: 100%;overflow: auto;}#sk-container-id-6 input.sk-toggleable__control:checked~label.sk-toggleable__label-arrow:before {content: \"▾\";}#sk-container-id-6 div.sk-estimator input.sk-toggleable__control:checked~label.sk-toggleable__label {background-color: #d4ebff;}#sk-container-id-6 div.sk-label input.sk-toggleable__control:checked~label.sk-toggleable__label {background-color: #d4ebff;}#sk-container-id-6 input.sk-hidden--visually {border: 0;clip: rect(1px 1px 1px 1px);clip: rect(1px, 1px, 1px, 1px);height: 1px;margin: -1px;overflow: hidden;padding: 0;position: absolute;width: 1px;}#sk-container-id-6 div.sk-estimator {font-family: monospace;background-color: #f0f8ff;border: 1px dotted black;border-radius: 0.25em;box-sizing: border-box;margin-bottom: 0.5em;}#sk-container-id-6 div.sk-estimator:hover {background-color: #d4ebff;}#sk-container-id-6 div.sk-parallel-item::after {content: \"\";width: 100%;border-bottom: 1px solid gray;flex-grow: 1;}#sk-container-id-6 div.sk-label:hover label.sk-toggleable__label {background-color: #d4ebff;}#sk-container-id-6 div.sk-serial::before {content: \"\";position: absolute;border-left: 1px solid gray;box-sizing: border-box;top: 0;bottom: 0;left: 50%;z-index: 0;}#sk-container-id-6 div.sk-serial {display: flex;flex-direction: column;align-items: center;background-color: white;padding-right: 0.2em;padding-left: 0.2em;position: relative;}#sk-container-id-6 div.sk-item {position: relative;z-index: 1;}#sk-container-id-6 div.sk-parallel {display: flex;align-items: stretch;justify-content: center;background-color: white;position: relative;}#sk-container-id-6 div.sk-item::before, #sk-container-id-6 div.sk-parallel-item::before {content: \"\";position: absolute;border-left: 1px solid gray;box-sizing: border-box;top: 0;bottom: 0;left: 50%;z-index: -1;}#sk-container-id-6 div.sk-parallel-item {display: flex;flex-direction: column;z-index: 1;position: relative;background-color: white;}#sk-container-id-6 div.sk-parallel-item:first-child::after {align-self: flex-end;width: 50%;}#sk-container-id-6 div.sk-parallel-item:last-child::after {align-self: flex-start;width: 50%;}#sk-container-id-6 div.sk-parallel-item:only-child::after {width: 0;}#sk-container-id-6 div.sk-dashed-wrapped {border: 1px dashed gray;margin: 0 0.4em 0.5em 0.4em;box-sizing: border-box;padding-bottom: 0.4em;background-color: white;}#sk-container-id-6 div.sk-label label {font-family: monospace;font-weight: bold;display: inline-block;line-height: 1.2em;}#sk-container-id-6 div.sk-label-container {text-align: center;}#sk-container-id-6 div.sk-container {/* jupyter's `normalize.less` sets `[hidden] { display: none; }` but bootstrap.min.css set `[hidden] { display: none !important; }` so we also need the `!important` here to be able to override the default hidden behavior on the sphinx rendered scikit-learn.org. See: https://github.com/scikit-learn/scikit-learn/issues/21755 */display: inline-block !important;position: relative;}#sk-container-id-6 div.sk-text-repr-fallback {display: none;}</style><div id=\"sk-container-id-6\" class=\"sk-top-container\"><div class=\"sk-text-repr-fallback\"><pre>RandomForestClassifier(n_estimators=700)</pre><b>In a Jupyter environment, please rerun this cell to show the HTML representation or trust the notebook. <br />On GitHub, the HTML representation is unable to render, please try loading this page with nbviewer.org.</b></div><div class=\"sk-container\" hidden><div class=\"sk-item\"><div class=\"sk-estimator sk-toggleable\"><input class=\"sk-toggleable__control sk-hidden--visually\" id=\"sk-estimator-id-6\" type=\"checkbox\" checked><label for=\"sk-estimator-id-6\" class=\"sk-toggleable__label sk-toggleable__label-arrow\">RandomForestClassifier</label><div class=\"sk-toggleable__content\"><pre>RandomForestClassifier(n_estimators=700)</pre></div></div></div></div></div>",
      "text/plain": "RandomForestClassifier(n_estimators=700)"
     },
     "execution_count": 106,
     "metadata": {},
     "output_type": "execute_result"
    }
   ],
   "source": [
    "model = RandomForestClassifier(n_estimators=700)\n",
    "model.fit(train_set_data, train_set[\"Survived\"])"
   ]
  },
  {
   "cell_type": "code",
   "execution_count": 107,
   "metadata": {
    "collapsed": false
   },
   "outputs": [],
   "source": [
    "predictions = model.predict(test_set)\n",
    "predictions = predictions.flatten()\n",
    "testdata_write = pd.read_csv(\"input/test.csv\", encoding=\"utf8\")\n",
    "submission = pd.DataFrame({\"PassengerId\": testdata_write[\"PassengerId\"], \"Survived\": predictions})\n",
    "submission[\"Survived\"] = submission[\"Survived\"].astype(int)\n",
    "submission.to_csv(\"result/Random_Forest_submission.csv\", index=False, encoding=\"utf8\")"
   ]
  },
  {
   "cell_type": "code",
   "execution_count": 108,
   "metadata": {
    "collapsed": false
   },
   "outputs": [
    {
     "name": "stdout",
     "output_type": "stream",
     "text": [
      "100%|████████████████████████████████████████| 2.77k/2.77k [00:04<00:00, 698B/s]\r\n",
      "Successfully submitted to Titanic - Machine Learning from Disaster"
     ]
    }
   ],
   "source": [
    "!kaggle competitions submit -f 'result/Random_Forest_submission.csv' -m 'Random Forest model' titanic"
   ]
  }
 ],
 "metadata": {
  "kernelspec": {
   "display_name": "Python 3",
   "language": "python",
   "name": "python3"
  },
  "language_info": {
   "codemirror_mode": {
    "name": "ipython",
    "version": 3
   },
   "file_extension": ".py",
   "mimetype": "text/x-python",
   "name": "python",
   "nbconvert_exporter": "python",
   "pygments_lexer": "ipython3",
   "version": "3.8.3"
  }
 },
 "nbformat": 4,
 "nbformat_minor": 2
}
